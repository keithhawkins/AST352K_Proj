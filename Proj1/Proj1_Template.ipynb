{
 "cells": [
  {
   "cell_type": "markdown",
   "id": "70850035",
   "metadata": {},
   "source": [
    "# Project 1: Building a Color Magnitude Diagram of the Milky Way Field "
   ]
  },
  {
   "cell_type": "markdown",
   "id": "4014b345",
   "metadata": {},
   "source": [
    "*FILL THIS IN*\n",
    "\n",
    "NAME: \n",
    "\n",
    "UTEID: \n",
    "\n",
    "DATE:\n",
    "\n",
    "GRADE : /61\n",
    "\n",
    "Goal : Construct 3 color magnitude diagrams of 500,000+ random Milky Way Stars. These will include a:\n",
    "1. Raw (reddend) color (bp-rp) vs absolute magnitude (M_G) diagram\n",
    "2. De-reddend color(bp-rp)-magnitude (M_G) diagram\n",
    "3. Raw (reddend) color (bp-rp)-magnitude (M_G) of stars with low extinction with E(BP-RP) < 0.02mag\n",
    "\n",
    "Data sets: \n",
    "high_quality_gaia.fits [50 MB] = astrometry, photometry for 500,000+ random milky way stars with uncertainties in parallax better than 1%. Data location : https://utexas.box.com/s/x4kfcv97bdxrhwkxllm687wjo3u2ls54\n",
    "Download and save to the SAME LOCATION as this file.\n",
    "\n",
    "\n",
    "Lets begin by loading our libraries: \n",
    "\n"
   ]
  },
  {
   "cell_type": "code",
   "execution_count": null,
   "id": "fa947f31",
   "metadata": {},
   "outputs": [],
   "source": [
    "#lets make a plots interactive\n",
    "%matplotlib widget \n",
    "\n",
    "#When converting the notebook to a pdf you may want to use %matplotlib inline! \n",
    "\n",
    "\n",
    "#Importing libraries \n",
    "import numpy as np\n",
    "import matplotlib.pyplot as p\n",
    "import astropy\n",
    "from astropy.table import Table\n",
    "from astropy.coordinates import SkyCoord\n",
    "import astropy.units as u\n",
    "from astropy.coordinates import Galactic\n",
    "from astropy.coordinates import ICRS\n",
    "from cycler import cycler\n",
    "\n",
    "#Lets set some of the default parameters for plotting. This is not needed but i like to style my plots.\n",
    "p.rc('axes',prop_cycle=(cycler('color', ['k','b','g','r','c','m','y'])))\n",
    "p.rcParams['lines.linewidth']= 1.5\n",
    "p.rcParams['axes.linewidth']=2.0\n",
    "p.rcParams['font.size']= 15.0\n",
    "p.rcParams['axes.labelsize']=16.0\n",
    "p.rcParams['axes.unicode_minus']=False\n",
    "p.rcParams['xtick.major.size']=6\n",
    "p.rcParams['xtick.minor.size']=3\n",
    "p.rcParams['xtick.major.width']=1.5#2.0\n",
    "p.rcParams['xtick.minor.width']=1.0\n",
    "p.rcParams['axes.linewidth']=2.5\n",
    "p.rcParams['axes.titlesize']=20#'large'\n",
    "p.rcParams['xtick.labelsize'] = 20#'x-large' # fontsize of the tick labels\n",
    "p.rcParams['ytick.labelsize']=20 #'x-large'\n",
    "p.rcParams['ytick.major.width']=2.0 #4\n",
    "p.rcParams['ytick.minor.width']=1.0 #2.0\n",
    "#--- added ONLY if you have LATEX installed otherwise comment out this!!!-----\n",
    "p.rcParams['text.usetex']= True\n",
    "p.rcParams['mathtext.fontset']= 'custom'\n",
    "p.rcParams['mathtext.default']= 'rm'\n",
    "p.rcParams['axes.formatter.use_mathtext']=False\n",
    "#-----------------------------------------------"
   ]
  },
  {
   "cell_type": "markdown",
   "id": "4285d8b3",
   "metadata": {},
   "source": [
    "## Loading the Data\n",
    "Now lets load in the Dataset and see whats inside (i.e. print the column names)"
   ]
  },
  {
   "cell_type": "code",
   "execution_count": null,
   "id": "32e0c8df",
   "metadata": {},
   "outputs": [],
   "source": [
    "#add soultion here (1pt)"
   ]
  },
  {
   "cell_type": "markdown",
   "id": "fcca49b8",
   "metadata": {},
   "source": [
    "You should get something like the following columns\n",
    "'source_id' = source id of the star\n",
    "\n",
    " 'ra', = right acesnsion in deg \n",
    " \n",
    " 'dec', = declination in deg\n",
    " \n",
    " 'l', = Galactic longitude in deg\n",
    " \n",
    " 'b', = Galactic latitude in degree\n",
    " \n",
    " 'parallax', = parallax in mas\n",
    " \n",
    " 'pmra', = proper motion * cos(DEC) in the RA direction in degree\n",
    " \n",
    " 'pmdec', proper motion in declination in deg\n",
    " \n",
    " 'phot_g_mean_mag', apparent G magnitude in mag\n",
    " \n",
    " 'phot_bp_mean_mag',apparent BP magnitude in mag\n",
    " \n",
    " 'phot_rp_mean_mag',apparent RP magnitude in mag\n",
    " \n",
    " 'bp_rp', BP-RP\n",
    " \n",
    " 'ag_gspphot', A_G (extinction in Gaia G) in mag\n",
    " \n",
    " 'azero_gspphot', A0_G specific extinction in G at 550 nm \n",
    " \n",
    " 'ebpminrp_gspphot', E(BP-RP) reddening in mag\n",
    " \n",
    " 'has_rvs', has an RVS spectrum True or False\n",
    " \n",
    " 'parallax_over_error', parallax/parallax_error\n",
    " \n",
    " 'radial_velocity' = Radial Velocity in km/s\n",
    " "
   ]
  },
  {
   "cell_type": "markdown",
   "id": "ae1ff5e2",
   "metadata": {},
   "source": [
    "## Plot the Sky positions (in both Equatorial and Galactic coordinates) of stars in the Sample \n"
   ]
  },
  {
   "cell_type": "markdown",
   "id": "5fc58e30",
   "metadata": {},
   "source": [
    "In order to do this we will need to RA, DEC (Equatorial), and l, b (Galactic) columns so lets grab those columns  and plot them up"
   ]
  },
  {
   "cell_type": "code",
   "execution_count": null,
   "id": "b116d77c",
   "metadata": {},
   "outputs": [],
   "source": [
    "# add solution here (5pt)"
   ]
  },
  {
   "cell_type": "markdown",
   "id": "a650a935",
   "metadata": {},
   "source": [
    "Lets now compute the distance distribution"
   ]
  },
  {
   "cell_type": "markdown",
   "id": "724b3bde",
   "metadata": {},
   "source": [
    "## Plot the Distance Distribution"
   ]
  },
  {
   "cell_type": "markdown",
   "id": "71fc8e5c",
   "metadata": {},
   "source": [
    "First compute the heliocentric distances to each star then plot a histogram of the distance distribution using 50 bins.\n",
    "\n",
    "After which compute the mean and median distances"
   ]
  },
  {
   "cell_type": "code",
   "execution_count": null,
   "id": "dbd2708d",
   "metadata": {},
   "outputs": [],
   "source": [
    "# add solution here (10 pts)"
   ]
  },
  {
   "cell_type": "markdown",
   "id": "9fff723f",
   "metadata": {},
   "source": [
    "## Create the First Color Magnitude Diagram\n",
    "\n",
    "With the color and magnitude already in the table, lets now plot our first (raw) color (bp-rp) magnitude (absolute G magnitude) diagram. Since there are 500,000 points, use a 2-D histogram to make this plot. Don't forget to invert the y-axis since magnitudes go in the opposite direction.\n"
   ]
  },
  {
   "cell_type": "code",
   "execution_count": null,
   "id": "5aa9cc48",
   "metadata": {},
   "outputs": [],
   "source": [
    "# add solution here (5 pts)"
   ]
  },
  {
   "cell_type": "markdown",
   "id": "89c956c9",
   "metadata": {},
   "source": [
    "Now that we have computed the color and absoulute magnitude lets now plot our first CMD!"
   ]
  },
  {
   "cell_type": "code",
   "execution_count": null,
   "id": "097056bb",
   "metadata": {},
   "outputs": [],
   "source": [
    "# add solution here (5 pts)"
   ]
  },
  {
   "cell_type": "markdown",
   "id": "35cf4b64",
   "metadata": {},
   "source": [
    "## Create the Second (de-reddend) Color Magnitude Diagram\n",
    "With the first (raw) color and magnitude in hand, lets now plot our second color magnitude diagram that has been corrected for reddening and extinction. Since there are 500,000 points, use a 2-D histogram to make this plot. Don't forget to invert the y-axis since magnitudes go in the opposite directon"
   ]
  },
  {
   "cell_type": "code",
   "execution_count": null,
   "id": "4024d261",
   "metadata": {},
   "outputs": [],
   "source": [
    "# add solution here (15 pts)"
   ]
  },
  {
   "cell_type": "markdown",
   "id": "1be78f01",
   "metadata": {},
   "source": [
    "## Create the Final (low extinction) Color Magnitude Diagram\n",
    "Lets now select only those stars where the color excess is low E(BP-RP) < 0.05mag."
   ]
  },
  {
   "cell_type": "code",
   "execution_count": null,
   "id": "890e28a2",
   "metadata": {},
   "outputs": [],
   "source": [
    "# add solution here (10 pts)"
   ]
  },
  {
   "cell_type": "markdown",
   "id": "ce16f1b1",
   "metadata": {},
   "source": [
    "## Answer these Qs (6 pts)\n",
    "Q1: Are the stars located in one particular direction or all around the sky?\n",
    "\n",
    "A1:\n",
    "\n",
    "Q2: What is the mean distance to the stars in the sample (in pc) :\n",
    "\n",
    "A2 : \n",
    "\n",
    "Q3: What is the median distance to the stars in the sample (in pc):\n",
    "\n",
    "A3: \n",
    "\n",
    "Q4: Are the median and mean the same? Why or why not?\n",
    "\n",
    "A4: \n",
    "\n",
    "Q5: The de-reddened and low extinction Color magnitude diagrams should look similar! Do they? If not, why not?\n",
    "\n",
    "A5:\n",
    "\n",
    "Q6 How many of these stars are observable (with airmass lower than 1.55) from McDonald Observatory (lat, long = 30.6797° N, 104.0247° W)? How do you know?\n",
    "\n",
    "A6:\n"
   ]
  },
  {
   "cell_type": "markdown",
   "id": "2597f3b4",
   "metadata": {},
   "source": [
    "NOTE: \n",
    "\n",
    "To answer Q6 you will need to make use of the len() and np.where()\n",
    "len() tells you how many elements are in an array and \n",
    "np.where( ((condition1) & (condition2)) | ((condition3)&(condition4)) ) determines the indices in an array where the condition is satisfied!\n",
    "In the where function & is \"and\" and | = \"or\"\n",
    "You task will be to write the condition appropriatly "
   ]
  },
  {
   "cell_type": "code",
   "execution_count": null,
   "id": "7d3c7532",
   "metadata": {},
   "outputs": [],
   "source": [
    "# add solution here (4 pts)\n",
    "alt_N = #fill this in altitude due north\n",
    "alt_S = #fill this in altitude due south\n",
    "altitude_limit = #put here the altitutde required to achieve an airmass less than 1.55\n",
    "Num_stars = len(np.where( ((alt_N >= altitude_limit) & (alt_N <= 90)) | \\\n",
    "                         ((alt_S >= altitude_limit) & (alt_S <= 90))  )[0])\n",
    "print('There %i stars that are observable with altitude > %.2f degrees'%(Num_stars,altitude_limit))\n"
   ]
  },
  {
   "cell_type": "code",
   "execution_count": null,
   "id": "b42ef61c",
   "metadata": {},
   "outputs": [],
   "source": []
  }
 ],
 "metadata": {
  "kernelspec": {
   "display_name": "Python 3",
   "language": "python",
   "name": "python3"
  },
  "language_info": {
   "codemirror_mode": {
    "name": "ipython",
    "version": 3
   },
   "file_extension": ".py",
   "mimetype": "text/x-python",
   "name": "python",
   "nbconvert_exporter": "python",
   "pygments_lexer": "ipython3",
   "version": "3.8.8"
  }
 },
 "nbformat": 4,
 "nbformat_minor": 5
}
