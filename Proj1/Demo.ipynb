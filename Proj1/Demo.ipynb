{
 "cells": [
  {
   "cell_type": "markdown",
   "id": "cda1cb94",
   "metadata": {},
   "source": [
    "# Demo of Python : Simple matrix operations & Plotting\n",
    "\n",
    "Author : Keith Hawkins (UT Austin) NAME\n",
    "\n",
    "Class : AST352K\n",
    "\n",
    "Demo of Python\n",
    "\n",
    "Date : Aug 25, 2022"
   ]
  },
  {
   "cell_type": "markdown",
   "id": "08fbf763",
   "metadata": {},
   "source": [
    "## Learning goals\n",
    "The purpose of this tutorial/demo is to introduce you to the basics of python that will be required to complete the various projects in this class. Here we will practice using arrays and lists, simple mathematical opportations, plotting, etc. \n",
    "\n",
    "Introduce the arrays and lists\n",
    "Introduce simple plotting in 1-,2-d with matplotlib (e.g. x-y, histogram, histogram in 2d via hexbin)\n",
    "\n",
    "\n",
    "We will start by loading in the nessisary libraries. Inside the libraries exists defintions (functions) that allow us to carry out what we want the code to do. \n",
    "\n",
    "\n",
    "Lets begin!\n",
    "DATA LOCATION \n",
    "Data sets: \n",
    "high_quality_gaia.fits [50 MB] = astrometry, photometry for 500,000+ random milky way stars with uncertainties in parallax better than 1%. Data location : https://utexas.box.com/s/n4sem91c6z80w1hizhxlpyud36cw4202\n",
    "Download and save to the SAME LOCATION as this file."
   ]
  },
  {
   "cell_type": "code",
   "execution_count": 1,
   "id": "96aae66a",
   "metadata": {},
   "outputs": [],
   "source": [
    "#lets make a plots interactive\n",
    "%matplotlib widget \n",
    "\n",
    "#Importing libraries \n",
    "import numpy as np #numpy\n",
    "import matplotlib.pyplot as p\n",
    "import astropy\n",
    "from astropy.table import Table\n",
    "from cycler import cycler"
   ]
  },
  {
   "cell_type": "markdown",
   "id": "505f853e",
   "metadata": {},
   "source": [
    "Styling plots: \n",
    "    Lets set some of the default parameters for plotting. This cell is not needed but i like to style my plots."
   ]
  },
  {
   "cell_type": "code",
   "execution_count": 2,
   "id": "9c469e2b",
   "metadata": {},
   "outputs": [],
   "source": [
    "#Lets set some of the default parameters for plotting. This cell is not needed but i like to style my plots.\n",
    "p.rc('axes',prop_cycle=(cycler('color', ['k','b','g','r','c','m','y'])))\n",
    "p.rcParams['lines.linewidth']= 1.5\n",
    "p.rcParams['axes.linewidth']=2.0\n",
    "p.rcParams['text.usetex']= True\n",
    "p.rcParams['mathtext.fontset']= 'custom'\n",
    "p.rcParams['mathtext.default']= 'rm'\n",
    "p.rcParams['font.size']= 15.0\n",
    "p.rcParams['axes.formatter.use_mathtext']=False\n",
    "p.rcParams['axes.labelsize']=16.0\n",
    "p.rcParams['axes.unicode_minus']=False\n",
    "p.rcParams['xtick.major.size']=6\n",
    "p.rcParams['xtick.minor.size']=3\n",
    "p.rcParams['xtick.major.width']=1.5#2.0\n",
    "p.rcParams['xtick.minor.width']=1.0\n",
    "p.rcParams['axes.linewidth']=2.5\n",
    "p.rcParams['axes.titlesize']=20#'large'\n",
    "p.rcParams['xtick.labelsize'] = 20#'x-large' # fontsize of the tick labels\n",
    "p.rcParams['ytick.labelsize']=20 #'x-large'\n",
    "p.rcParams['ytick.major.width']=2.0 #4\n",
    "p.rcParams['ytick.minor.width']=1.0 #2.0"
   ]
  },
  {
   "cell_type": "markdown",
   "id": "4e1fd0e4",
   "metadata": {},
   "source": [
    "## Arrays and Printing "
   ]
  },
  {
   "cell_type": "code",
   "execution_count": 5,
   "id": "3406c414",
   "metadata": {},
   "outputs": [
    {
     "name": "stdout",
     "output_type": "stream",
     "text": [
      "[-2.00000000e+01 -1.99000000e+01 -1.98000000e+01 -1.97000000e+01\n",
      " -1.96000000e+01 -1.95000000e+01 -1.94000000e+01 -1.93000000e+01\n",
      " -1.92000000e+01 -1.91000000e+01 -1.90000000e+01 -1.89000000e+01\n",
      " -1.88000000e+01 -1.87000000e+01 -1.86000000e+01 -1.85000000e+01\n",
      " -1.84000000e+01 -1.83000000e+01 -1.82000000e+01 -1.81000000e+01\n",
      " -1.80000000e+01 -1.79000000e+01 -1.78000000e+01 -1.77000000e+01\n",
      " -1.76000000e+01 -1.75000000e+01 -1.74000000e+01 -1.73000000e+01\n",
      " -1.72000000e+01 -1.71000000e+01 -1.70000000e+01 -1.69000000e+01\n",
      " -1.68000000e+01 -1.67000000e+01 -1.66000000e+01 -1.65000000e+01\n",
      " -1.64000000e+01 -1.63000000e+01 -1.62000000e+01 -1.61000000e+01\n",
      " -1.60000000e+01 -1.59000000e+01 -1.58000000e+01 -1.57000000e+01\n",
      " -1.56000000e+01 -1.55000000e+01 -1.54000000e+01 -1.53000000e+01\n",
      " -1.52000000e+01 -1.51000000e+01 -1.50000000e+01 -1.49000000e+01\n",
      " -1.48000000e+01 -1.47000000e+01 -1.46000000e+01 -1.45000000e+01\n",
      " -1.44000000e+01 -1.43000000e+01 -1.42000000e+01 -1.41000000e+01\n",
      " -1.40000000e+01 -1.39000000e+01 -1.38000000e+01 -1.37000000e+01\n",
      " -1.36000000e+01 -1.35000000e+01 -1.34000000e+01 -1.33000000e+01\n",
      " -1.32000000e+01 -1.31000000e+01 -1.30000000e+01 -1.29000000e+01\n",
      " -1.28000000e+01 -1.27000000e+01 -1.26000000e+01 -1.25000000e+01\n",
      " -1.24000000e+01 -1.23000000e+01 -1.22000000e+01 -1.21000000e+01\n",
      " -1.20000000e+01 -1.19000000e+01 -1.18000000e+01 -1.17000000e+01\n",
      " -1.16000000e+01 -1.15000000e+01 -1.14000000e+01 -1.13000000e+01\n",
      " -1.12000000e+01 -1.11000000e+01 -1.10000000e+01 -1.09000000e+01\n",
      " -1.08000000e+01 -1.07000000e+01 -1.06000000e+01 -1.05000000e+01\n",
      " -1.04000000e+01 -1.03000000e+01 -1.02000000e+01 -1.01000000e+01\n",
      " -1.00000000e+01 -9.90000000e+00 -9.80000000e+00 -9.70000000e+00\n",
      " -9.60000000e+00 -9.50000000e+00 -9.40000000e+00 -9.30000000e+00\n",
      " -9.20000000e+00 -9.10000000e+00 -9.00000000e+00 -8.90000000e+00\n",
      " -8.80000000e+00 -8.70000000e+00 -8.60000000e+00 -8.50000000e+00\n",
      " -8.40000000e+00 -8.30000000e+00 -8.20000000e+00 -8.10000000e+00\n",
      " -8.00000000e+00 -7.90000000e+00 -7.80000000e+00 -7.70000000e+00\n",
      " -7.60000000e+00 -7.50000000e+00 -7.40000000e+00 -7.30000000e+00\n",
      " -7.20000000e+00 -7.10000000e+00 -7.00000000e+00 -6.90000000e+00\n",
      " -6.80000000e+00 -6.70000000e+00 -6.60000000e+00 -6.50000000e+00\n",
      " -6.40000000e+00 -6.30000000e+00 -6.20000000e+00 -6.10000000e+00\n",
      " -6.00000000e+00 -5.90000000e+00 -5.80000000e+00 -5.70000000e+00\n",
      " -5.60000000e+00 -5.50000000e+00 -5.40000000e+00 -5.30000000e+00\n",
      " -5.20000000e+00 -5.10000000e+00 -5.00000000e+00 -4.90000000e+00\n",
      " -4.80000000e+00 -4.70000000e+00 -4.60000000e+00 -4.50000000e+00\n",
      " -4.40000000e+00 -4.30000000e+00 -4.20000000e+00 -4.10000000e+00\n",
      " -4.00000000e+00 -3.90000000e+00 -3.80000000e+00 -3.70000000e+00\n",
      " -3.60000000e+00 -3.50000000e+00 -3.40000000e+00 -3.30000000e+00\n",
      " -3.20000000e+00 -3.10000000e+00 -3.00000000e+00 -2.90000000e+00\n",
      " -2.80000000e+00 -2.70000000e+00 -2.60000000e+00 -2.50000000e+00\n",
      " -2.40000000e+00 -2.30000000e+00 -2.20000000e+00 -2.10000000e+00\n",
      " -2.00000000e+00 -1.90000000e+00 -1.80000000e+00 -1.70000000e+00\n",
      " -1.60000000e+00 -1.50000000e+00 -1.40000000e+00 -1.30000000e+00\n",
      " -1.20000000e+00 -1.10000000e+00 -1.00000000e+00 -9.00000000e-01\n",
      " -8.00000000e-01 -7.00000000e-01 -6.00000000e-01 -5.00000000e-01\n",
      " -4.00000000e-01 -3.00000000e-01 -2.00000000e-01 -1.00000000e-01\n",
      "  2.84217094e-13  1.00000000e-01  2.00000000e-01  3.00000000e-01\n",
      "  4.00000000e-01  5.00000000e-01  6.00000000e-01  7.00000000e-01\n",
      "  8.00000000e-01  9.00000000e-01  1.00000000e+00  1.10000000e+00\n",
      "  1.20000000e+00  1.30000000e+00  1.40000000e+00  1.50000000e+00\n",
      "  1.60000000e+00  1.70000000e+00  1.80000000e+00  1.90000000e+00\n",
      "  2.00000000e+00  2.10000000e+00  2.20000000e+00  2.30000000e+00\n",
      "  2.40000000e+00  2.50000000e+00  2.60000000e+00  2.70000000e+00\n",
      "  2.80000000e+00  2.90000000e+00  3.00000000e+00  3.10000000e+00\n",
      "  3.20000000e+00  3.30000000e+00  3.40000000e+00  3.50000000e+00\n",
      "  3.60000000e+00  3.70000000e+00  3.80000000e+00  3.90000000e+00\n",
      "  4.00000000e+00  4.10000000e+00  4.20000000e+00  4.30000000e+00\n",
      "  4.40000000e+00  4.50000000e+00  4.60000000e+00  4.70000000e+00\n",
      "  4.80000000e+00  4.90000000e+00  5.00000000e+00  5.10000000e+00\n",
      "  5.20000000e+00  5.30000000e+00  5.40000000e+00  5.50000000e+00\n",
      "  5.60000000e+00  5.70000000e+00  5.80000000e+00  5.90000000e+00\n",
      "  6.00000000e+00  6.10000000e+00  6.20000000e+00  6.30000000e+00\n",
      "  6.40000000e+00  6.50000000e+00  6.60000000e+00  6.70000000e+00\n",
      "  6.80000000e+00  6.90000000e+00  7.00000000e+00  7.10000000e+00\n",
      "  7.20000000e+00  7.30000000e+00  7.40000000e+00  7.50000000e+00\n",
      "  7.60000000e+00  7.70000000e+00  7.80000000e+00  7.90000000e+00\n",
      "  8.00000000e+00  8.10000000e+00  8.20000000e+00  8.30000000e+00\n",
      "  8.40000000e+00  8.50000000e+00  8.60000000e+00  8.70000000e+00\n",
      "  8.80000000e+00  8.90000000e+00  9.00000000e+00  9.10000000e+00\n",
      "  9.20000000e+00  9.30000000e+00  9.40000000e+00  9.50000000e+00\n",
      "  9.60000000e+00  9.70000000e+00  9.80000000e+00  9.90000000e+00\n",
      "  1.00000000e+01  1.01000000e+01  1.02000000e+01  1.03000000e+01\n",
      "  1.04000000e+01  1.05000000e+01  1.06000000e+01  1.07000000e+01\n",
      "  1.08000000e+01  1.09000000e+01  1.10000000e+01  1.11000000e+01\n",
      "  1.12000000e+01  1.13000000e+01  1.14000000e+01  1.15000000e+01\n",
      "  1.16000000e+01  1.17000000e+01  1.18000000e+01  1.19000000e+01\n",
      "  1.20000000e+01  1.21000000e+01  1.22000000e+01  1.23000000e+01\n",
      "  1.24000000e+01  1.25000000e+01  1.26000000e+01  1.27000000e+01\n",
      "  1.28000000e+01  1.29000000e+01  1.30000000e+01  1.31000000e+01\n",
      "  1.32000000e+01  1.33000000e+01  1.34000000e+01  1.35000000e+01\n",
      "  1.36000000e+01  1.37000000e+01  1.38000000e+01  1.39000000e+01\n",
      "  1.40000000e+01  1.41000000e+01  1.42000000e+01  1.43000000e+01\n",
      "  1.44000000e+01  1.45000000e+01  1.46000000e+01  1.47000000e+01\n",
      "  1.48000000e+01  1.49000000e+01  1.50000000e+01  1.51000000e+01\n",
      "  1.52000000e+01  1.53000000e+01  1.54000000e+01  1.55000000e+01\n",
      "  1.56000000e+01  1.57000000e+01  1.58000000e+01  1.59000000e+01\n",
      "  1.60000000e+01  1.61000000e+01  1.62000000e+01  1.63000000e+01\n",
      "  1.64000000e+01  1.65000000e+01  1.66000000e+01  1.67000000e+01\n",
      "  1.68000000e+01  1.69000000e+01  1.70000000e+01  1.71000000e+01\n",
      "  1.72000000e+01  1.73000000e+01  1.74000000e+01  1.75000000e+01\n",
      "  1.76000000e+01  1.77000000e+01  1.78000000e+01  1.79000000e+01\n",
      "  1.80000000e+01  1.81000000e+01  1.82000000e+01  1.83000000e+01\n",
      "  1.84000000e+01  1.85000000e+01  1.86000000e+01  1.87000000e+01\n",
      "  1.88000000e+01  1.89000000e+01  1.90000000e+01  1.91000000e+01\n",
      "  1.92000000e+01  1.93000000e+01  1.94000000e+01  1.95000000e+01\n",
      "  1.96000000e+01  1.97000000e+01  1.98000000e+01  1.99000000e+01]\n"
     ]
    }
   ],
   "source": [
    "#lets define an array x such that it ranges from -20 to 20 with 0.1 step intervals \n",
    "x = np.arange(-20.0,20.0,0.1) #generates an array from -20 to 20 with step size\n",
    "\n",
    "#what is in x?\n",
    "print(x) #lets print x and see whats inside; \n"
   ]
  },
  {
   "cell_type": "code",
   "execution_count": 8,
   "id": "0c2de419",
   "metadata": {},
   "outputs": [
    {
     "name": "stdout",
     "output_type": "stream",
     "text": [
      "There are 400 elements in array x\n"
     ]
    }
   ],
   "source": [
    "#how many elements are in x?\n",
    "print('There are %i elements in array x'%(len(x))) #lets print how many elements make up array x"
   ]
  },
  {
   "cell_type": "markdown",
   "id": "b504a540",
   "metadata": {},
   "source": [
    "## Mean / Median : Simple Statistics\n",
    "What do you think the mean and median of x will be ???"
   ]
  },
  {
   "cell_type": "code",
   "execution_count": 9,
   "id": "8a18a7f7",
   "metadata": {},
   "outputs": [
    {
     "name": "stdout",
     "output_type": "stream",
     "text": [
      "The Mean of X = -0.05\n",
      "The Median of X = -0.05\n"
     ]
    }
   ],
   "source": [
    "meanx = np.mean(x)\n",
    "medianx = np.median(x)\n",
    "print('The Mean of X = %.2f'%(meanx))\n",
    "print('The Median of X = %.2f'%(medianx))"
   ]
  },
  {
   "cell_type": "markdown",
   "id": "50478e18",
   "metadata": {},
   "source": [
    "Why are these not 0? Should they be? "
   ]
  },
  {
   "cell_type": "markdown",
   "id": "f4fd5a2b",
   "metadata": {},
   "source": [
    "## Simple Operations on Arrays and Plotting"
   ]
  },
  {
   "cell_type": "code",
   "execution_count": 10,
   "id": "8ce1e196",
   "metadata": {},
   "outputs": [
    {
     "name": "stdout",
     "output_type": "stream",
     "text": [
      "There are 400 elements in array y\n"
     ]
    },
    {
     "name": "stderr",
     "output_type": "stream",
     "text": [
      "<ipython-input-10-ac086f15c126>:5: RuntimeWarning: invalid value encountered in log\n",
      "  y2 = np.log(x) #natural log Note: there will be some errors b/c negative numbers cannot be in the log\n",
      "<ipython-input-10-ac086f15c126>:6: RuntimeWarning: invalid value encountered in log10\n",
      "  y3 = np.log10(x) #log base 10\n"
     ]
    }
   ],
   "source": [
    "#lets define a new variable y such that y = x^2 NOTE ** is the same thing as power in python\n",
    "y = x**2 \n",
    "\n",
    "#lets also define a new parameter that is log(x) and log10(x)\n",
    "y2 = np.log(x) #natural log Note: there will be some errors b/c negative numbers cannot be in the log \n",
    "y3 = np.log10(x) #log base 10\n",
    "\n",
    "\n",
    "#how many elements are in y\n",
    "print('There are %i elements in array y'%(len(y))) #lets print how many elements make up array x"
   ]
  },
  {
   "cell_type": "markdown",
   "id": "253c3338",
   "metadata": {},
   "source": [
    "## Simple plotting \n",
    "Lets try to plot y as a function of x!"
   ]
  },
  {
   "cell_type": "code",
   "execution_count": 11,
   "id": "b9beee02",
   "metadata": {
    "scrolled": false
   },
   "outputs": [
    {
     "data": {
      "application/vnd.jupyter.widget-view+json": {
       "model_id": "3d396c795a314637b229689928fa0e72",
       "version_major": 2,
       "version_minor": 0
      },
      "text/plain": [
       "Canvas(toolbar=Toolbar(toolitems=[('Home', 'Reset original view', 'home', 'home'), ('Back', 'Back to previous …"
      ]
     },
     "metadata": {},
     "output_type": "display_data"
    }
   ],
   "source": [
    "p.figure() # create a figure \n",
    "p.plot(x,y,ls='-',color='k') #plot y vs x  black solid line of\n",
    "p.xlabel('x') #label the x axis with 'x'\n",
    "p.ylabel('y') #label the y axis with 'y'\n",
    "p.tight_layout() # remove the white spaces"
   ]
  },
  {
   "cell_type": "markdown",
   "id": "b1de0602",
   "metadata": {},
   "source": [
    "Lets now try plotting y2 (i.e. y2= log(x)) and y3 (i.e., y= log10(x)) as a function of x on the same plot. "
   ]
  },
  {
   "cell_type": "code",
   "execution_count": 13,
   "id": "91973875",
   "metadata": {
    "scrolled": false
   },
   "outputs": [
    {
     "data": {
      "application/vnd.jupyter.widget-view+json": {
       "model_id": "6d3f1d063be64f99aa16c7fad16ed052",
       "version_major": 2,
       "version_minor": 0
      },
      "text/plain": [
       "Canvas(toolbar=Toolbar(toolitems=[('Home', 'Reset original view', 'home', 'home'), ('Back', 'Back to previous …"
      ]
     },
     "metadata": {},
     "output_type": "display_data"
    }
   ],
   "source": [
    "p.figure() \n",
    "p.plot(x,y2,ls='-',color='k',label='y=log(x)',lw=2) #natural log (ln) ; solid black line with label and line weight=2\n",
    "p.plot(x,y3,ls='-.',color='r',label='y=log10(x)',lw=2) #log base 10; dot-dashed black line with label and line weight=2\n",
    "p.xlabel('X') ; p.ylabel('Y')\n",
    "p.legend()\n",
    "p.tight_layout()"
   ]
  },
  {
   "cell_type": "markdown",
   "id": "2d788c67",
   "metadata": {},
   "source": [
    "what if we wanted to make a histogram of x ? \n",
    "NOTE: Histograms allow us to see the 'Distribtuion' in a parameter."
   ]
  },
  {
   "cell_type": "code",
   "execution_count": 15,
   "id": "5bf3e334",
   "metadata": {
    "scrolled": true
   },
   "outputs": [
    {
     "data": {
      "application/vnd.jupyter.widget-view+json": {
       "model_id": "3cb030d4f0ec4c7cb56b6efddf8b2e46",
       "version_major": 2,
       "version_minor": 0
      },
      "text/plain": [
       "Canvas(toolbar=Toolbar(toolitems=[('Home', 'Reset original view', 'home', 'home'), ('Back', 'Back to previous …"
      ]
     },
     "metadata": {},
     "output_type": "display_data"
    }
   ],
   "source": [
    "p.figure() #creating a figure\n",
    "p.hist(y, histtype='step',lw=4,bins=20) #plotting the histogram\n",
    "p.ylabel('N') #creating a ylabel\n",
    "p.xlabel('y') #creating an x label \n",
    "p.tight_layout() #makes the figure \"tight\" so there arent alot of white spaces"
   ]
  },
  {
   "cell_type": "markdown",
   "id": "8f078b8c",
   "metadata": {},
   "source": [
    "## Loading in Data Tables w/ Astropy, Plotting Density Diagrams "
   ]
  },
  {
   "cell_type": "markdown",
   "id": "f34123f1",
   "metadata": {},
   "source": [
    "Ok.. so now that we have constructed an array, preformed a mathematical opporation on it, and plotted the results, lets try something harder. Lets try to read in some actual Gaia Data using astropy and plots the on sky positions for the stars "
   ]
  },
  {
   "cell_type": "code",
   "execution_count": 16,
   "id": "3a6053eb",
   "metadata": {
    "scrolled": true
   },
   "outputs": [
    {
     "data": {
      "text/plain": [
       "['source_id',\n",
       " 'ra',\n",
       " 'dec',\n",
       " 'l',\n",
       " 'b',\n",
       " 'parallax',\n",
       " 'pmra',\n",
       " 'pmdec',\n",
       " 'phot_g_mean_mag',\n",
       " 'phot_bp_mean_mag',\n",
       " 'phot_rp_mean_mag',\n",
       " 'bp_rp',\n",
       " 'ag_gspphot',\n",
       " 'azero_gspphot',\n",
       " 'ebpminrp_gspphot',\n",
       " 'has_rvs',\n",
       " 'parallax_over_error',\n",
       " 'radial_velocity']"
      ]
     },
     "execution_count": 16,
     "metadata": {},
     "output_type": "execute_result"
    }
   ],
   "source": [
    "T = Table.read('./high_quality_gaia.fits') #lets read in the fits table this is downloaded from the Gaia archive upon the completion of the ADQL query \n",
    "#NOTE: for this to work its T= Table.read(full path of data table './' = local folder/directory)\n",
    "T.colnames #this allows us to see the column names \n",
    "\n"
   ]
  },
  {
   "cell_type": "code",
   "execution_count": 17,
   "id": "8d26adf6",
   "metadata": {},
   "outputs": [
    {
     "name": "stdout",
     "output_type": "stream",
     "text": [
      "There are 513123 stars in this dataset\n"
     ]
    }
   ],
   "source": [
    "print('There are %i stars in this dataset'%(len(T)))"
   ]
  },
  {
   "cell_type": "code",
   "execution_count": 11,
   "id": "d5c03876",
   "metadata": {},
   "outputs": [
    {
     "data": {
      "text/html": [
       "&lt;MaskedColumn name=&apos;ra&apos; dtype=&apos;float64&apos; unit=&apos;deg&apos; length=513123&gt;\n",
       "<table>\n",
       "<tr><td>274.03823198505614</td></tr>\n",
       "<tr><td>274.27771116663604</td></tr>\n",
       "<tr><td>274.50170677949245</td></tr>\n",
       "<tr><td>274.35488241748374</td></tr>\n",
       "<tr><td>274.2652202652083</td></tr>\n",
       "<tr><td>276.8876609140014</td></tr>\n",
       "<tr><td>276.8140700627627</td></tr>\n",
       "<tr><td>277.014841049893</td></tr>\n",
       "<tr><td>276.93704475699496</td></tr>\n",
       "<tr><td>276.7523240629263</td></tr>\n",
       "<tr><td>276.9716634131573</td></tr>\n",
       "<tr><td>277.3779919731774</td></tr>\n",
       "<tr><td>...</td></tr>\n",
       "<tr><td>301.66390180529294</td></tr>\n",
       "<tr><td>301.2524006680717</td></tr>\n",
       "<tr><td>301.36902915842927</td></tr>\n",
       "<tr><td>301.919936959861</td></tr>\n",
       "<tr><td>301.78061114640906</td></tr>\n",
       "<tr><td>300.9728974132776</td></tr>\n",
       "<tr><td>299.8060432879834</td></tr>\n",
       "<tr><td>302.5266780082668</td></tr>\n",
       "<tr><td>305.4114066102716</td></tr>\n",
       "<tr><td>303.6776667692864</td></tr>\n",
       "<tr><td>305.1475524002382</td></tr>\n",
       "<tr><td>303.4780074980292</td></tr>\n",
       "</table>"
      ],
      "text/plain": [
       "<MaskedColumn name='ra' dtype='float64' unit='deg' length=513123>\n",
       "274.03823198505614\n",
       "274.27771116663604\n",
       "274.50170677949245\n",
       "274.35488241748374\n",
       " 274.2652202652083\n",
       " 276.8876609140014\n",
       " 276.8140700627627\n",
       "  277.014841049893\n",
       "276.93704475699496\n",
       " 276.7523240629263\n",
       " 276.9716634131573\n",
       " 277.3779919731774\n",
       "               ...\n",
       "301.66390180529294\n",
       " 301.2524006680717\n",
       "301.36902915842927\n",
       "  301.919936959861\n",
       "301.78061114640906\n",
       " 300.9728974132776\n",
       " 299.8060432879834\n",
       " 302.5266780082668\n",
       " 305.4114066102716\n",
       " 303.6776667692864\n",
       " 305.1475524002382\n",
       " 303.4780074980292"
      ]
     },
     "execution_count": 11,
     "metadata": {},
     "output_type": "execute_result"
    }
   ],
   "source": [
    "T['ra'] #calling column ra "
   ]
  },
  {
   "cell_type": "markdown",
   "id": "685a46ab",
   "metadata": {},
   "source": [
    "In this case, we want to make 2 plots (this is usually better when there are a large number of points): 1. a 2D histogram which shows the on sky location of the stars in RA/DEC (Equatorial Coordinates) 2. a 2-D histogram which shows the on sky location of the stars in l,b (Galactic Coordinates). "
   ]
  },
  {
   "cell_type": "code",
   "execution_count": 18,
   "id": "74ff011d",
   "metadata": {},
   "outputs": [
    {
     "data": {
      "application/vnd.jupyter.widget-view+json": {
       "model_id": "1061180ea54d4ad28a284a063dbed47f",
       "version_major": 2,
       "version_minor": 0
      },
      "text/plain": [
       "Canvas(toolbar=Toolbar(toolitems=[('Home', 'Reset original view', 'home', 'home'), ('Back', 'Back to previous …"
      ]
     },
     "metadata": {},
     "output_type": "display_data"
    }
   ],
   "source": [
    "#----plot 1 Equatorial Coordinates------\n",
    "p.figure()\n",
    "#we will use hexbin which creates hexagonal bins and the color in each bin represents the number of stars in that bin\n",
    "#bins='log' will define logarthimic bins; mincnt = defined the min count to plot\n",
    "\n",
    "PLT= p.hexbin(T['ra'],T['dec'],bins='log', mincnt=1,cmap='plasma') #create a hexbin/2d histogram of ra,dec with log bins. \n",
    "#in the above mincnt = 1 means there must be at least 1 star in the bin!\n",
    "p.colorbar(PLT,label='log(N)') #add the colorbar to the hexbin defined as PLT\n",
    "p.xlabel('RA (deg)') #Ra x label\n",
    "p.ylabel('DEC (deg)') # dec y label\n",
    "p.tight_layout() #remove white spaces\n",
    "\n",
    "#--------"
   ]
  },
  {
   "cell_type": "code",
   "execution_count": 13,
   "id": "c10dba66",
   "metadata": {},
   "outputs": [
    {
     "data": {
      "image/png": "[encoded data removed]",
      "text/plain": [
       "<Figure size 432x288 with 1 Axes>"
      ]
     },
     "metadata": {
      "needs_background": "light"
     },
     "output_type": "display_data"
    }
   ],
   "source": [
    "#----plot 2------\n",
    "p.figure()\n",
    "#we will use hexbin which creates hexagonal bins and the color in each bin represents the number of stars in that bin\n",
    "#bins='log' will define logarthimic bins; mincnt = defined the min count to plot\n",
    "p.hexbin(T['l'],T['b'],bins='log', mincnt=1,cmap='Greys') \n",
    "p.xlabel('l (deg)') #Ra x label\n",
    "p.ylabel('b (deg)') #\n",
    "p.tight_layout()\n",
    "\n",
    "#--------"
   ]
  },
  {
   "cell_type": "markdown",
   "id": "86f97ccb",
   "metadata": {},
   "source": [
    "Lets transform this a little so that the l degree runs -180 to 180 to see the galaxy without the wrap around.\n",
    "To do this, we need to find all galactic longitudes that are larger than 180 and subtract 360 deg from it. That way stars with longitudes of 360 degree will also be at 0. \n",
    "\n",
    "To do this .. i will need to search the Galactic longitude array to find where the values are larger than 180 degrees and subtract of 360 degrees. Thus something that has a l = 360 will actually have a modified l at -180 degrees. We will use the \"where\" function in numpy to do this."
   ]
  },
  {
   "cell_type": "code",
   "execution_count": 19,
   "id": "afdca656",
   "metadata": {
    "scrolled": true
   },
   "outputs": [
    {
     "data": {
      "application/vnd.jupyter.widget-view+json": {
       "model_id": "e152a932d7554d86b1a25366e5258900",
       "version_major": 2,
       "version_minor": 0
      },
      "text/plain": [
       "Canvas(toolbar=Toolbar(toolitems=[('Home', 'Reset original view', 'home', 'home'), ('Back', 'Back to previous …"
      ]
     },
     "metadata": {},
     "output_type": "display_data"
    }
   ],
   "source": [
    "l = T['l']\n",
    "l[np.where(l>= 180)] = l[np.where(l>= 180)]-360 #find all places where l >= 180 and subtract them by 360 deg\n",
    "#----plot 2------\n",
    "p.figure()\n",
    "#we will use hexbin which creates hexagonal bins and the color in each bin represents the number of stars in that bin\n",
    "#bins='log' will define logarthimic bins; mincnt = defined the min count to plot\n",
    "p.hexbin(l,T['b'], mincnt=1,gridsize=100, bins='log') \n",
    "p.xlabel('l (deg)') #Ra x label\n",
    "p.ylabel('b (deg)') #\n",
    "p.axhline(y=0,ls='--',color='k',lw=1)\n",
    "p.axvline(x=0,ls='--',color='k',lw=1)\n",
    "p.tight_layout()\n",
    "#--------"
   ]
  },
  {
   "cell_type": "code",
   "execution_count": null,
   "id": "c9b9a7e8",
   "metadata": {},
   "outputs": [],
   "source": []
  }
 ],
 "metadata": {
  "kernelspec": {
   "display_name": "Python 3",
   "language": "python",
   "name": "python3"
  },
  "language_info": {
   "codemirror_mode": {
    "name": "ipython",
    "version": 3
   },
   "file_extension": ".py",
   "mimetype": "text/x-python",
   "name": "python",
   "nbconvert_exporter": "python",
   "pygments_lexer": "ipython3",
   "version": "3.8.8"
  }
 },
 "nbformat": 4,
 "nbformat_minor": 5
}
