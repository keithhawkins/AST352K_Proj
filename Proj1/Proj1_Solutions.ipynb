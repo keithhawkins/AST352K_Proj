{
 "cells": [
  {
   "cell_type": "markdown",
   "id": "70850035",
   "metadata": {},
   "source": [
    "# Project 1: Building a Color Magnitude Diagram of the Milky Way Field "
   ]
  },
  {
   "cell_type": "markdown",
   "id": "4014b345",
   "metadata": {},
   "source": [
    "NAME: \n",
    "\n",
    "UTEID: \n",
    "\n",
    "DATE:\n",
    "\n",
    "\n",
    "Goal : Construct 3 color magnitude diagrams of 500,000+ random Milky Way Stars. These will include a:\n",
    "1. Raw (reddend) color (bp-rp) vs absolute magnitude (M_G) diagram\n",
    "2. De-reddend color(bp-rp)-magnitude (M_G) diagram\n",
    "3. Raw (reddend) color (bp-rp)-magnitude (M_G) of stars with low extinction with E(BP-RP) < 0.02mag\n",
    "\n",
    "Data sets: \n",
    "high_quality_gaia.fits [50 MB] = astrometry, photometry for 500,000+ random milky way stars with uncertainties in parallax better than 1%. Data location : https://utexas.box.com/s/n4sem91c6z80w1hizhxlpyud36cw4202\n",
    "Download and save to the SAME LOCATION as this file.\n",
    "\n",
    "\n",
    "Lets begin by loading our libraries: \n",
    "\n"
   ]
  },
  {
   "cell_type": "code",
   "execution_count": 1,
   "id": "fa947f31",
   "metadata": {},
   "outputs": [],
   "source": [
    "#lets make a plots interactive\n",
    "%matplotlib widget \n",
    "\n",
    "#Importing libraries \n",
    "import numpy as np\n",
    "import matplotlib.pyplot as p\n",
    "import astropy\n",
    "from astropy.table import Table\n",
    "import scipy.stats\n",
    "from astropy.coordinates import SkyCoord\n",
    "import astropy.units as u\n",
    "from astropy.coordinates import Galactic\n",
    "from astropy.coordinates import ICRS\n",
    "import astropy.coordinates as apycord\n",
    "import random\n",
    "from cycler import cycler\n",
    "\n",
    "#Lets set some of the default parameters for plotting. This cell is not needed but i like to style my plots.\n",
    "p.rc('axes',prop_cycle=(cycler('color', ['k','b','g','r','c','m','y'])))\n",
    "p.rcParams['lines.linewidth']= 1.5\n",
    "p.rcParams['axes.linewidth']=2.0\n",
    "p.rcParams['text.usetex']= True\n",
    "p.rcParams['mathtext.fontset']= 'custom'\n",
    "p.rcParams['mathtext.default']= 'rm'\n",
    "p.rcParams['font.size']= 15.0\n",
    "p.rcParams['axes.formatter.use_mathtext']=False\n",
    "p.rcParams['axes.labelsize']=16.0\n",
    "p.rcParams['axes.unicode_minus']=False\n",
    "p.rcParams['xtick.major.size']=6\n",
    "p.rcParams['xtick.minor.size']=3\n",
    "p.rcParams['xtick.major.width']=1.5#2.0\n",
    "p.rcParams['xtick.minor.width']=1.0\n",
    "p.rcParams['axes.linewidth']=2.5\n",
    "p.rcParams['axes.titlesize']=20#'large'\n",
    "p.rcParams['xtick.labelsize'] = 20#'x-large' # fontsize of the tick labels\n",
    "p.rcParams['ytick.labelsize']=20 #'x-large'\n",
    "p.rcParams['ytick.major.width']=2.0 #4\n",
    "p.rcParams['ytick.minor.width']=1.0 #2.0"
   ]
  },
  {
   "cell_type": "markdown",
   "id": "4285d8b3",
   "metadata": {},
   "source": [
    "## Loading the Data\n",
    "Now lets load in the Dataset and see whats inside (i.e. print the column names)"
   ]
  },
  {
   "cell_type": "code",
   "execution_count": 2,
   "id": "32e0c8df",
   "metadata": {},
   "outputs": [
    {
     "data": {
      "text/plain": [
       "['source_id',\n",
       " 'ra',\n",
       " 'dec',\n",
       " 'l',\n",
       " 'b',\n",
       " 'parallax',\n",
       " 'pmra',\n",
       " 'pmdec',\n",
       " 'phot_g_mean_mag',\n",
       " 'phot_bp_mean_mag',\n",
       " 'phot_rp_mean_mag',\n",
       " 'bp_rp',\n",
       " 'ag_gspphot',\n",
       " 'azero_gspphot',\n",
       " 'ebpminrp_gspphot',\n",
       " 'has_rvs',\n",
       " 'parallax_over_error',\n",
       " 'radial_velocity']"
      ]
     },
     "execution_count": 2,
     "metadata": {},
     "output_type": "execute_result"
    }
   ],
   "source": [
    "T = Table.read('./high_quality_gaia.fits') #1 pt\n",
    "T.colnames"
   ]
  },
  {
   "cell_type": "markdown",
   "id": "fcca49b8",
   "metadata": {},
   "source": [
    "You should get something like the following columns\n",
    "'source_id' = source id of the star\n",
    "\n",
    " 'ra', = right acesnsion in deg \n",
    " \n",
    " 'dec', = declination in deg\n",
    " \n",
    " 'l', = Galactic longitude in deg\n",
    " \n",
    " 'b', = Galactic latitude in degree\n",
    " \n",
    " 'parallax', = parallax in mas\n",
    " \n",
    " 'pmra', = proper motion * cos(DEC) in the RA direction in degree\n",
    " \n",
    " 'pmdec', proper motion in declination in deg\n",
    " \n",
    " 'phot_g_mean_mag', apparent G magnitude in mag\n",
    " \n",
    " 'phot_bp_mean_mag',apparent BP magnitude in mag\n",
    " \n",
    " 'phot_rp_mean_mag',apparent RP magnitude in mag\n",
    " \n",
    " 'bp_rp', BP-RP\n",
    " \n",
    " 'ag_gspphot', A_G (extinction in Gaia G) in mag\n",
    " \n",
    " 'azero_gspphot', A0_G specific extinction in G at 550 nm \n",
    " \n",
    " 'ebpminrp_gspphot', E(BP-RP) reddening in mag\n",
    " \n",
    " 'has_rvs', has an RVS spectrum True or False\n",
    " \n",
    " 'parallax_over_error', parallax/parallax_error\n",
    " \n",
    " 'radial_velocity' = Radial Velocity in km/s\n",
    " "
   ]
  },
  {
   "cell_type": "markdown",
   "id": "ae1ff5e2",
   "metadata": {},
   "source": [
    "## Plot the Sky positions (in both Equatorial and Galactic coordinates) of stars in the Sample \n"
   ]
  },
  {
   "cell_type": "markdown",
   "id": "5fc58e30",
   "metadata": {},
   "source": [
    "In order to do this we will need to RA, DEC (Equatorial), and l, b (Galactic) columns so lets grab those columns  and plot them up"
   ]
  },
  {
   "cell_type": "code",
   "execution_count": 3,
   "id": "b116d77c",
   "metadata": {},
   "outputs": [
    {
     "data": {
      "application/vnd.jupyter.widget-view+json": {
       "model_id": "71392893314f404094e8c23907b1aa84",
       "version_major": 2,
       "version_minor": 0
      },
      "text/plain": [
       "Canvas(toolbar=Toolbar(toolitems=[('Home', 'Reset original view', 'home', 'home'), ('Back', 'Back to previous …"
      ]
     },
     "metadata": {},
     "output_type": "display_data"
    },
    {
     "data": {
      "application/vnd.jupyter.widget-view+json": {
       "model_id": "664d36dfb44249ad93edce8e506b0dc8",
       "version_major": 2,
       "version_minor": 0
      },
      "text/plain": [
       "Canvas(toolbar=Toolbar(toolitems=[('Home', 'Reset original view', 'home', 'home'), ('Back', 'Back to previous …"
      ]
     },
     "metadata": {},
     "output_type": "display_data"
    }
   ],
   "source": [
    "#grabbing RA,DEC,l,b 5pts\n",
    "l = T['l']\n",
    "b = T['b']\n",
    "RA = T['ra']\n",
    "DEC = T['dec']\n",
    "\n",
    "#plotting Equatorial coordinates in a 2-d histogram. DO NOT USE PLOT because it will take a long time to render\n",
    "p.figure()\n",
    "p.hexbin(RA,DEC, bins='log',mincnt=1)\n",
    "p.xlabel('RA (deg)');p.ylabel('DEC (deg)')\n",
    "p.tight_layout()\n",
    "\n",
    "\n",
    "#plotting Galactic coordinates in a 2-d histogram. DO NOT USE PLOT because it will take a long time to render\n",
    "\n",
    "\n",
    "p.figure()\n",
    "p.hexbin(l,b, bins='log',mincnt=1)\n",
    "p.xlabel('l (deg)');p.ylabel('b (deg)')\n",
    "p.tight_layout()\n",
    "\n"
   ]
  },
  {
   "cell_type": "markdown",
   "id": "a650a935",
   "metadata": {},
   "source": [
    "Ok this should allow us to answer Q1: Clearly they stars are located in all directions of the MW but mostly in the plane of the Galaxy.\n",
    "\n",
    "Lets now compute the distance distribution"
   ]
  },
  {
   "cell_type": "markdown",
   "id": "724b3bde",
   "metadata": {},
   "source": [
    "## Plot the Distance Distribution"
   ]
  },
  {
   "cell_type": "markdown",
   "id": "71fc8e5c",
   "metadata": {},
   "source": [
    "First compute the heliocentric distances to each star then plot a histogram of the distance distribution using 50 bins.\n",
    "\n",
    "After which compute the mean and median distances"
   ]
  },
  {
   "cell_type": "code",
   "execution_count": 4,
   "id": "dbd2708d",
   "metadata": {},
   "outputs": [
    {
     "data": {
      "application/vnd.jupyter.widget-view+json": {
       "model_id": "1b36b19f3d6345d28593cf3717e67e05",
       "version_major": 2,
       "version_minor": 0
      },
      "text/plain": [
       "Canvas(toolbar=Toolbar(toolitems=[('Home', 'Reset original view', 'home', 'home'), ('Back', 'Back to previous …"
      ]
     },
     "metadata": {},
     "output_type": "display_data"
    },
    {
     "name": "stdout",
     "output_type": "stream",
     "text": [
      "The mean distance is 1362.17 pc\n",
      "The median distance is 1194.06 pc\n"
     ]
    },
    {
     "name": "stderr",
     "output_type": "stream",
     "text": [
      "/Users/khawkins/opt/anaconda3/lib/python3.8/site-packages/numpy/core/fromnumeric.py:753: UserWarning: Warning: 'partition' will ignore the 'mask' of the MaskedColumn.\n",
      "  a.partition(kth, axis=axis, kind=kind, order=order)\n"
     ]
    }
   ],
   "source": [
    "#lets start by computing the distances given the parallax 10pts\n",
    "distance = 1000./T['parallax'] #note since parallax is in miliarcsecond 1/parallax is distance in kpc thus 1000/parallax is distance in parsec\n",
    "\n",
    "#lets now plot it up.\n",
    "p.figure()\n",
    "p.hist(distance,bins=50, histtype='step')\n",
    "p.xlabel('Distance (pc)')\n",
    "p.ylabel('N')\n",
    "med_dist = np.median(distance)\n",
    "mean_dist = np.mean(distance)\n",
    "print('The mean distance is %.2f pc'%mean_dist)\n",
    "print('The median distance is %.2f pc'%med_dist)\n",
    "p.axvline(x=mean_dist,ls='--',color='r',label='mean')\n",
    "p.axvline(x=med_dist,ls='--',color='k',label='median')\n",
    "p.legend()\n",
    "p.tight_layout()"
   ]
  },
  {
   "cell_type": "markdown",
   "id": "9fff723f",
   "metadata": {},
   "source": [
    "## Create the First Color Magnitude Diagram\n",
    "With the color and magnitude in hand, lets now plot our first color magnitude diagram (raw). Since there are 500,000 points, use a 2-D histogram to make this plot. Don't forget to invert the y-axis since magnitudes go in the opposite directon"
   ]
  },
  {
   "cell_type": "code",
   "execution_count": 5,
   "id": "5aa9cc48",
   "metadata": {},
   "outputs": [],
   "source": [
    "#lets pull down the color and magnitudes first \n",
    "BP = T['phot_bp_mean_mag'] #Blue bandpass magnitude in mag\n",
    "RP = T['phot_rp_mean_mag'] #Red bandpass magnitude in mag\n",
    "G = T['phot_g_mean_mag'] #Gaia G band magnitude in mag\n",
    "\n",
    "#lets compute the color\n",
    "BP_RP = BP-RP # (BP-RP) color NOTE this is also the bp_rp column\n",
    "\n",
    "#lets now compute the absolute magnitude\n",
    "absG = G - 5*(np.log10(distance)-1)"
   ]
  },
  {
   "cell_type": "markdown",
   "id": "89c956c9",
   "metadata": {},
   "source": [
    "Now that we have computed the color and abs. magnitude lets now plot our first CMD!"
   ]
  },
  {
   "cell_type": "code",
   "execution_count": 6,
   "id": "097056bb",
   "metadata": {},
   "outputs": [
    {
     "data": {
      "application/vnd.jupyter.widget-view+json": {
       "model_id": "4d39acfc6c71421c828aa9f62b480d97",
       "version_major": 2,
       "version_minor": 0
      },
      "text/plain": [
       "Canvas(toolbar=Toolbar(toolitems=[('Home', 'Reset original view', 'home', 'home'), ('Back', 'Back to previous …"
      ]
     },
     "metadata": {},
     "output_type": "display_data"
    }
   ],
   "source": [
    "p.figure()\n",
    "p.hexbin(BP_RP, absG, bins='log',mincnt=1,cmap='plasma')\n",
    "p.xlabel('(BP-RP)/mag')\n",
    "p.ylabel(r'$M_G$/mag')\n",
    "p.gca().invert_yaxis()\n",
    "p.tight_layout()\n",
    "#--- dont forget to invert the y-axis since magnitudes go in the opposite directon"
   ]
  },
  {
   "cell_type": "markdown",
   "id": "35cf4b64",
   "metadata": {},
   "source": [
    "## Create the Second (de-reddend) Color Magnitude Diagram\n",
    "With the first (raw) color and magnitude in hand, lets now plot our second color magnitude diagram that has been corrected for reddening and extinction. Since there are 500,000 points, use a 2-D histogram to make this plot. Don't forget to invert the y-axis since magnitudes go in the opposite directon"
   ]
  },
  {
   "cell_type": "code",
   "execution_count": 7,
   "id": "4024d261",
   "metadata": {},
   "outputs": [
    {
     "data": {
      "application/vnd.jupyter.widget-view+json": {
       "model_id": "56ee1e1cab834cd89f5c8b345b29e9cb",
       "version_major": 2,
       "version_minor": 0
      },
      "text/plain": [
       "Canvas(toolbar=Toolbar(toolitems=[('Home', 'Reset original view', 'home', 'home'), ('Back', 'Back to previous …"
      ]
     },
     "metadata": {},
     "output_type": "display_data"
    }
   ],
   "source": [
    "#lets start be pulling the color excess E(BP-RP) and extinction in G from the Gaia table \n",
    "E_BP_RP = T['ebpminrp_gspphot']\n",
    "A_G = T['ag_gspphot']\n",
    "#------\n",
    "\n",
    "#now lets correct the above diagram for both extinction and reddening \n",
    "\n",
    "p.figure()\n",
    "p.hexbin(BP_RP-E_BP_RP, absG-A_G, bins='log',mincnt=1,cmap='plasma')\n",
    "#NOTE:  since things get redder to correct we must subtract the excess color\n",
    "#NOTE2: since extinction makes things fainter we must subtract to make it brighter when account for extinction\n",
    "p.xlabel('(BP-RP)/mag')\n",
    "p.ylabel(r'$M_G$/mag')\n",
    "p.gca().invert_yaxis()\n",
    "p.tight_layout()\n",
    "#--- dont forget to invert the y-axis since magnitudes go in the opposite directon"
   ]
  },
  {
   "cell_type": "markdown",
   "id": "1be78f01",
   "metadata": {},
   "source": [
    "## Create the Final (low extinction) Color Magnitude Diagram\n",
    "Lets now select only those stars where the color excess is low E(BP-RP) < 0.05mag."
   ]
  },
  {
   "cell_type": "code",
   "execution_count": 8,
   "id": "890e28a2",
   "metadata": {},
   "outputs": [
    {
     "data": {
      "application/vnd.jupyter.widget-view+json": {
       "model_id": "07c3d015ab4d4f0b914a5e70be270ca2",
       "version_major": 2,
       "version_minor": 0
      },
      "text/plain": [
       "Canvas(toolbar=Toolbar(toolitems=[('Home', 'Reset original view', 'home', 'home'), ('Back', 'Back to previous …"
      ]
     },
     "metadata": {},
     "output_type": "display_data"
    }
   ],
   "source": [
    "p.figure()\n",
    "ok = np.where(E_BP_RP<0.05)[0] # lets find out where the E(BP-RP) < 0.05 mag\n",
    "p.hexbin(BP_RP[ok],absG[ok], bins='log',mincnt=1,cmap='plasma')\n",
    "p.xlabel('(BP-RP)/mag')\n",
    "p.ylabel(r'$M_G$/mag')\n",
    "p.gca().invert_yaxis()\n",
    "p.tight_layout()\n",
    "#--- dont forget to invert the y-axis since magnitudes go in the opposite directon"
   ]
  },
  {
   "cell_type": "markdown",
   "id": "ce16f1b1",
   "metadata": {},
   "source": [
    "Q1: Are the stars located in one particular direction or all around the sky?\n",
    "\n",
    "A1: The Stars are located all around the sky \n",
    "\n",
    "Q2: What is the mean distance to the stars in the sample (in pc) :\n",
    "\n",
    "A2 : The mean distance is 1362.17 pc\n",
    "\n",
    "Q3: What is the median distance to the stars in the sample (in pc):\n",
    "\n",
    "A3: The median distance is 1194.06 pc\n",
    "\n",
    "Q4: Are the median and mean the same? Why or why not?\n",
    "\n",
    "A4: The mean and median are not the same. This is because the distance distribution is not Guassian but skewed towards larger values pulling the mean away to larger values than the median.\n",
    "\n",
    "Q5: The de-reddened and low extinction Color magnitude diagrams should look similar! Do they? If not, why not?\n",
    "\n",
    "A5: The low extinction plot is less well sampled (this is because there less stars that have low extinction compared to those which have extinction estimates). Additionally, the low exintciton plot is cleaner (e.g., the very red bright objects that shouldnt be in the 2nd CMD) and tighter compared (e.g., red clump) to the de-reddened plot. \n",
    "\n",
    "Q6: How many of these stars are observable (with altitude > 40 degrees) from McDonald Observatory (30.6797° N, 104.0247° W)? How do you know?\n",
    "\n",
    "A6:\n"
   ]
  },
  {
   "cell_type": "markdown",
   "id": "3b772727",
   "metadata": {},
   "source": [
    "NOTE: \n",
    "\n",
    "To answer Q6 you will need to make use of the len() and np.where()\n",
    "len() tells you how many elements are in an array and \n",
    "np.where(condition) determines the indices in an array where the condition is satisfied!\n",
    "You task will be to write the condition appropriatly "
   ]
  },
  {
   "cell_type": "code",
   "execution_count": 9,
   "id": "9a679b0b",
   "metadata": {},
   "outputs": [
    {
     "name": "stdout",
     "output_type": "stream",
     "text": [
      "There 181842 stars that are observable with altitude > 40 degrees\n"
     ]
    }
   ],
   "source": [
    "# add solution here (4 pts)\n",
    "alt_S = (90-30.6797) + T['dec']\n",
    "alt_N = 180 - (90-30.6797) + T['dec']\n",
    "\n",
    "Num_stars = len(np.where( ((alt_N >= 40) & (alt_N <= 90)) | ((alt_S >= 40) & (alt_N <= 40))  )[0])\n",
    "print('There %i stars that are observable with altitude > 40 degrees'%Num_stars)\n",
    "\n"
   ]
  },
  {
   "cell_type": "code",
   "execution_count": null,
   "id": "0cf68562",
   "metadata": {},
   "outputs": [],
   "source": []
  }
 ],
 "metadata": {
  "kernelspec": {
   "display_name": "Python 3",
   "language": "python",
   "name": "python3"
  },
  "language_info": {
   "codemirror_mode": {
    "name": "ipython",
    "version": 3
   },
   "file_extension": ".py",
   "mimetype": "text/x-python",
   "name": "python",
   "nbconvert_exporter": "python",
   "pygments_lexer": "ipython3",
   "version": "3.8.8"
  }
 },
 "nbformat": 4,
 "nbformat_minor": 5
}
