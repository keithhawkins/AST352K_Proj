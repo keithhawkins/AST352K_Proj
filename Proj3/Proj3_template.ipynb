{
 "cells": [
  {
   "cell_type": "markdown",
   "id": "70850035",
   "metadata": {},
   "source": [
    "# Project 3: Stellar Atmospheres : The Physics of Why A stars have strong(est) Balmer Lines?"
   ]
  },
  {
   "cell_type": "markdown",
   "id": "4014b345",
   "metadata": {},
   "source": [
    "NAME: \n",
    "\n",
    "UTEID: \n",
    "\n",
    "DATE:\n",
    "\n",
    "\n",
    "Goals: The goal of this project is to use our understanding of the physics of stellar atmospheres to figure out why A stars (with Temperatures near 10,000 K) have very strong Balmer lines. \n",
    "Data sets: None\n",
    "\n",
    "Points: 80\n",
    "\n",
    "\n",
    "Lets begin by loading our libraries: \n",
    "\n"
   ]
  },
  {
   "cell_type": "code",
   "execution_count": null,
   "id": "fa947f31",
   "metadata": {},
   "outputs": [],
   "source": [
    "#lets make a plots interactive\n",
    "%matplotlib widget \n",
    "\n",
    "#Importing libraries \n",
    "import numpy as np\n",
    "import matplotlib.pyplot as p\n",
    "import astropy\n",
    "from astropy.table import Table\n",
    "import scipy.stats\n",
    "from astropy.coordinates import SkyCoord\n",
    "import astropy.units as u\n",
    "from astropy.coordinates import Galactic\n",
    "from astropy.coordinates import ICRS\n",
    "import astropy.coordinates as apycord\n",
    "import random\n",
    "from cycler import cycler\n",
    "import astropy.table\n",
    "\n",
    "#Lets set some of the default parameters for plotting. This cell is not needed but i like to style my plots.\n",
    "p.rc('axes',prop_cycle=(cycler('color', ['k','b','g','r','c','m','y'])))\n",
    "p.rcParams['lines.linewidth']= 1.5\n",
    "p.rcParams['axes.linewidth']=2.0\n",
    "#---comment (or remove) this block if you do not have latex----\n",
    "p.rcParams['text.usetex']= True\n",
    "p.rcParams['mathtext.fontset']= 'custom'\n",
    "p.rcParams['mathtext.default']= 'rm'\n",
    "p.rcParams['axes.formatter.use_mathtext']=False\n",
    "#----------------------------------------\n",
    "p.rcParams['font.size']= 15.0\n",
    "p.rcParams['axes.labelsize']=16.0\n",
    "p.rcParams['axes.unicode_minus']=False\n",
    "p.rcParams['xtick.major.size']=6\n",
    "p.rcParams['xtick.minor.size']=3\n",
    "p.rcParams['xtick.major.width']=1.5#2.0\n",
    "p.rcParams['xtick.minor.width']=1.0\n",
    "p.rcParams['axes.linewidth']=2.5\n",
    "p.rcParams['axes.titlesize']=20#'large'\n",
    "p.rcParams['xtick.labelsize'] = 20#'x-large' # fontsize of the tick labels\n",
    "p.rcParams['ytick.labelsize']=20 #'x-large'\n",
    "p.rcParams['ytick.major.width']=2.0 #4\n",
    "p.rcParams['ytick.minor.width']=1.0 #2.0"
   ]
  },
  {
   "cell_type": "markdown",
   "id": "4285d8b3",
   "metadata": {},
   "source": [
    "## Define the constants in CGS\n",
    "Lets begin by defining some key constants in CGS (speed of light, boltzmaaan constant, electron mass, planck's constant, ..."
   ]
  },
  {
   "cell_type": "code",
   "execution_count": null,
   "id": "25bb0add",
   "metadata": {},
   "outputs": [],
   "source": [
    "#5pts answer here\n"
   ]
  },
  {
   "cell_type": "markdown",
   "id": "f71ea129",
   "metadata": {},
   "source": [
    "# Coding up the Boltzmann Equation\n",
    "Lets write a defintion that take as input the the energy differences between two levels, the temperature of the gas and the density of states, and any other key information and outputs the ratio of the number density of atoms/ion in energy state A versus that of B. "
   ]
  },
  {
   "cell_type": "code",
   "execution_count": null,
   "id": "084f573d",
   "metadata": {},
   "outputs": [],
   "source": [
    "# 5pts\n",
    "def Boltzmann_Eq(dE,T,g1,g2):\n",
    "    '''INPUT:\n",
    "            dE is the energy difference between energy levels\n",
    "            T is the temperature of the gas\n",
    "            g1 and g2 is the degeneracy of states for the gas at the upper and lower energy levels\n",
    "        OUTPUT : \n",
    "            The ratio of atoms in excited state n2/n1.'''\n",
    "\n"
   ]
  },
  {
   "cell_type": "markdown",
   "id": "76b42356",
   "metadata": {},
   "source": [
    "Q1: Determine the ratio of the H atoms which are at N=2 vs those at N=1 for a H gas at the temperature of the solar photosphere (5777K) (2pts)\n"
   ]
  },
  {
   "cell_type": "code",
   "execution_count": null,
   "id": "6e24e774",
   "metadata": {},
   "outputs": [],
   "source": [
    "#insert answer / calculation here; 2pts\n"
   ]
  },
  {
   "cell_type": "markdown",
   "id": "cd1adf99",
   "metadata": {},
   "source": [
    "A1: "
   ]
  },
  {
   "cell_type": "markdown",
   "id": "504bbaff",
   "metadata": {},
   "source": [
    "Q2: Determine the ratio of the H atoms which are at N=2 vs those at N=1 for a H gas at the temperature an EXTREAMLY hot H gaseous photosphere (85,000K) (2pts)\n"
   ]
  },
  {
   "cell_type": "code",
   "execution_count": null,
   "id": "d96d2145",
   "metadata": {},
   "outputs": [],
   "source": [
    "#insert answer / calculation here; 2pts\n"
   ]
  },
  {
   "cell_type": "markdown",
   "id": "76512c0d",
   "metadata": {},
   "source": [
    "A2: "
   ]
  },
  {
   "cell_type": "markdown",
   "id": "53a69080",
   "metadata": {},
   "source": [
    "## Coding up the Partition Function\n",
    "In order to determine to fraction of total population of atoms/ion at N=2 we need to know the total number of atoms across all states (via the partition function). Next write a function/definition that derives the parition functions given a temperature and the number of levels (num_levels) to sum over. "
   ]
  },
  {
   "cell_type": "code",
   "execution_count": null,
   "id": "ff006454",
   "metadata": {},
   "outputs": [],
   "source": [
    "#10 pts\n",
    "def partition_function(T, num_levels=2):\n",
    "    '''INPUT:\n",
    "            T is the temperature of the gas\n",
    "            num_levels = number of levels atom to sum over for the partition function \n",
    "        OUTPUT : \n",
    "            The value of the partition function.'''\n",
    "    #enter answer here\n"
   ]
  },
  {
   "cell_type": "markdown",
   "id": "4ce5839a",
   "metadata": {},
   "source": [
    "Q3: What is the partition function of a pure HI gas that is 10,000K when summing over just the first 2 energy level? (2pts)"
   ]
  },
  {
   "cell_type": "code",
   "execution_count": null,
   "id": "59c77cdf",
   "metadata": {},
   "outputs": [],
   "source": [
    "#enter calculation here\n"
   ]
  },
  {
   "cell_type": "markdown",
   "id": "76aa875f",
   "metadata": {},
   "source": [
    "A3:"
   ]
  },
  {
   "cell_type": "markdown",
   "id": "357dc6e7",
   "metadata": {},
   "source": [
    "Q4: What is the partition function of a pure HI gas that is 10,000K when summing over just the first 5 energy level? (2pts)"
   ]
  },
  {
   "cell_type": "code",
   "execution_count": null,
   "id": "0cb21d5c",
   "metadata": {},
   "outputs": [],
   "source": []
  },
  {
   "cell_type": "markdown",
   "id": "00f1d448",
   "metadata": {},
   "source": [
    "A4: "
   ]
  },
  {
   "cell_type": "markdown",
   "id": "f687ea9a",
   "metadata": {},
   "source": [
    "Use what you have learned above to write down a function which defines the fraction of atoms in N=2 (i.e. $\\frac{n2}{n1+n2}$)"
   ]
  },
  {
   "cell_type": "code",
   "execution_count": null,
   "id": "6c4d3979",
   "metadata": {},
   "outputs": [],
   "source": [
    "#10 pts\n",
    "def Boltzmann_frac(n,T,num_levels=2):\n",
    "    '''INPUT:\n",
    "            n = the energy state at which to evaluate the fraction of electrons in the state\n",
    "            T is the temperature of the gas\n",
    "            num_levels = number of levels atom to sum over for the partition function \n",
    "        OUTPUT : \n",
    "            The fraction of atoms which have electrons in the n-th state.'''\n",
    "    \n",
    "    #enter answer here"
   ]
  },
  {
   "cell_type": "markdown",
   "id": "0879066d",
   "metadata": {},
   "source": [
    "Q5: Determine the fraction of atoms/ion in a pure H gas of temperature of the gas  T~85000 K that are in the fundemental state (n=1). (2pts)"
   ]
  },
  {
   "cell_type": "code",
   "execution_count": null,
   "id": "df1c9fc3",
   "metadata": {},
   "outputs": [],
   "source": [
    "#insert answer here; 5pts\n"
   ]
  },
  {
   "cell_type": "markdown",
   "id": "092c9d17",
   "metadata": {},
   "source": [
    "A5:  "
   ]
  },
  {
   "cell_type": "markdown",
   "id": "ea532a57",
   "metadata": {},
   "source": [
    "## Plotting the Boltzmann Equation"
   ]
  },
  {
   "cell_type": "markdown",
   "id": "5e0c5a1e",
   "metadata": {},
   "source": [
    "For a pure H gas, plot the fraction of atoms/ions that are in the ground (n=1) state as a function of the temperature of the gas (the temperature should range from 500 to 100,000 K). On the same figure, plot the first excited (i.e. Balmer; n=2) state using a different colored line. For this task you can sum over the first 2 energy levels for the partition function. Make sure to label your plot and provide axis labels."
   ]
  },
  {
   "cell_type": "code",
   "execution_count": null,
   "id": "909f0728",
   "metadata": {},
   "outputs": [],
   "source": [
    "#insert answer here 10pts\n",
    "\n"
   ]
  },
  {
   "cell_type": "markdown",
   "id": "ca9ecbaf",
   "metadata": {},
   "source": [
    "# Coding up the Saha Equation\n",
    "Lets write a defintion that take as input the temperature of the gas, the number of levels to sum the partition function over, the ionization energy of the H gas and the number density of electrons in the gas and outputs the ratio of the number of atoms of H in neutral vs singly ionized. "
   ]
  },
  {
   "cell_type": "code",
   "execution_count": null,
   "id": "c4ebd8a1",
   "metadata": {},
   "outputs": [],
   "source": [
    "# answer here 5pts\n",
    "def saha_Eq(T=10000,num_levels=2,xi=13.6,ne=2E12):\n",
    "    '''INPUT:\n",
    "            T is the temperature of the gas\n",
    "            num_levels = number of levels atom to sum over for the partition function \n",
    "            xi = the ionization energy of the atom (13.6eV for H gas)\n",
    "            ne = the number density of electrons\n",
    "        OUTPUT : \n",
    "            The ratio of the the number of atoms in ionization state N2 vs ground state N2/N1'''\n"
   ]
  },
  {
   "cell_type": "markdown",
   "id": "50e81831",
   "metadata": {},
   "source": [
    "Q6: Using the above definition determine how much of a pure H gas at 5777K with an electron density of 10$^{12}$ cm$^{-2}$ is singly ionized. For simiplicity just sum of 2 energy levels in the partition function. (2pts)"
   ]
  },
  {
   "cell_type": "code",
   "execution_count": null,
   "id": "f80e737f",
   "metadata": {},
   "outputs": [],
   "source": [
    "#Compute Q6 here\n"
   ]
  },
  {
   "cell_type": "markdown",
   "id": "ae4e6ab2",
   "metadata": {},
   "source": [
    "A6:  "
   ]
  },
  {
   "cell_type": "markdown",
   "id": "083f3d33",
   "metadata": {},
   "source": [
    "Q7: Using the above definition determine how much of a pure H gas at 85,000K with an electron density of 10$^{12}$ cm$^{-2}$ is singly ionized. For simiplicity just sum of 2 energy levels in the partition function. (2pts)"
   ]
  },
  {
   "cell_type": "code",
   "execution_count": null,
   "id": "2f18fecd",
   "metadata": {},
   "outputs": [],
   "source": [
    "#Compute Q7 here\n"
   ]
  },
  {
   "cell_type": "markdown",
   "id": "ad79891e",
   "metadata": {},
   "source": [
    "A7: "
   ]
  },
  {
   "cell_type": "markdown",
   "id": "b69b3778",
   "metadata": {},
   "source": [
    "## Visualizing the Saha Equation "
   ]
  },
  {
   "cell_type": "markdown",
   "id": "a6b8fb2a",
   "metadata": {},
   "source": [
    "For a pure H gas, plot the fraction of HI atoms as in the gas as function of the temperature of the gas (the temperature should range from 500 to 100,000 K). On the same figure (but with a different line color), plot the fraction of HII atoms as in the gas as function of the temperature of the gas (the temperature should range from 500 to 100,000 K)  For this task you can sum over the first 2 energy levels for the partition function. Make sure to label your plot and provide axis labels.\n",
    "\n",
    "For this, assume that the pure H gas has an electron pressure of P$_e$ = 200 dyn cm$^{-2}$ (similar electron pressure in stars) and behaves like an ideal gas. NOTE : this is an electron pressure and not an electron density."
   ]
  },
  {
   "cell_type": "code",
   "execution_count": null,
   "id": "f135db32",
   "metadata": {},
   "outputs": [],
   "source": [
    "#insert answer here 10pts\n",
    "p.figure()\n",
    "Temps = np.arange(500,50000,1)"
   ]
  },
  {
   "cell_type": "markdown",
   "id": "781f1ee8",
   "metadata": {},
   "source": [
    "Q8: Using the above figure, at what temperature is more than 50% of this pure H gas singly ionized? (2pts)\n",
    "\n",
    "A8: "
   ]
  },
  {
   "cell_type": "markdown",
   "id": "163a5bd5",
   "metadata": {},
   "source": [
    "## Putting it all Together: Visualize the Saha and Boltzmann Equations "
   ]
  },
  {
   "cell_type": "markdown",
   "id": "2a64e61e",
   "metadata": {},
   "source": [
    "Now for the same gas plot the fraction of atoms at N=2 multiplied by the fraction of neutral atoms, i.e.\n",
    "$\\frac{N_1}{N_1+N_2} \\times \\frac{N_I}{N_I+N_{II}} $ as a function of temperature (ranging between 500, 25,000 K)\n",
    "\n",
    "The left hand side comes from the Boltzmann Equation while the right hand side comes from the Saha Equation."
   ]
  },
  {
   "cell_type": "code",
   "execution_count": null,
   "id": "5f35c33f",
   "metadata": {
    "scrolled": true
   },
   "outputs": [],
   "source": [
    "#10pts \n",
    "#answer here\n"
   ]
  },
  {
   "cell_type": "markdown",
   "id": "3872aa85",
   "metadata": {},
   "source": [
    "Q9: Using the above plot, at what temperature is does the fraction of the HI multiplied by the fraction of atoms at n=2 peak (i.e. at what temperature are the balmer lines going to be strongest). Which spectral type of star has this temperature? (4pts)\n",
    "\n",
    "\n",
    "A9: "
   ]
  },
  {
   "cell_type": "code",
   "execution_count": null,
   "id": "dd4015e5",
   "metadata": {},
   "outputs": [],
   "source": []
  }
 ],
 "metadata": {
  "kernelspec": {
   "display_name": "Python 3",
   "language": "python",
   "name": "python3"
  },
  "language_info": {
   "codemirror_mode": {
    "name": "ipython",
    "version": 3
   },
   "file_extension": ".py",
   "mimetype": "text/x-python",
   "name": "python",
   "nbconvert_exporter": "python",
   "pygments_lexer": "ipython3",
   "version": "3.8.8"
  }
 },
 "nbformat": 4,
 "nbformat_minor": 5
}
