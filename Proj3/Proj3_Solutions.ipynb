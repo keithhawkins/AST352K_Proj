{
 "cells": [
  {
   "cell_type": "markdown",
   "id": "70850035",
   "metadata": {},
   "source": [
    "# Project 3: Stellar Atmopsheres : The Physics of Why A stars have strong(est) Balmer Lines?"
   ]
  },
  {
   "cell_type": "markdown",
   "id": "4014b345",
   "metadata": {},
   "source": [
    "NAME: \n",
    "\n",
    "UTEID: \n",
    "\n",
    "DATE:\n",
    "\n",
    "\n",
    "Goals: The goal of this project is to use our understanding of the physics of stellar atmopsheres to figure out why A stars (with Temperatures near 10,000 K) have very strong balmer lines. \n",
    "\n",
    "Data sets: None\n",
    "\n",
    "\n",
    "Lets begin by loading our libraries: \n",
    "\n"
   ]
  },
  {
   "cell_type": "code",
   "execution_count": 1,
   "id": "fa947f31",
   "metadata": {},
   "outputs": [],
   "source": [
    "#lets make a plots interactive\n",
    "%matplotlib widget \n",
    "\n",
    "#Importing libraries \n",
    "import numpy as np\n",
    "import matplotlib.pyplot as p\n",
    "import astropy\n",
    "from astropy.table import Table\n",
    "import scipy.stats\n",
    "from astropy.coordinates import SkyCoord\n",
    "import astropy.units as u\n",
    "from astropy.coordinates import Galactic\n",
    "from astropy.coordinates import ICRS\n",
    "import astropy.coordinates as apycord\n",
    "import random\n",
    "from cycler import cycler\n",
    "import astropy.table\n",
    "\n",
    "#Lets set some of the default parameters for plotting. This cell is not needed but i like to style my plots.\n",
    "p.rc('axes',prop_cycle=(cycler('color', ['k','b','g','r','c','m','y'])))\n",
    "p.rcParams['lines.linewidth']= 1.5\n",
    "p.rcParams['axes.linewidth']=2.0\n",
    "#---comment (or remove) this block if you do not have latex----\n",
    "p.rcParams['text.usetex']= True\n",
    "p.rcParams['mathtext.fontset']= 'custom'\n",
    "p.rcParams['mathtext.default']= 'rm'\n",
    "p.rcParams['axes.formatter.use_mathtext']=False\n",
    "#----------------------------------------\n",
    "p.rcParams['font.size']= 15.0\n",
    "p.rcParams['axes.labelsize']=16.0\n",
    "p.rcParams['axes.unicode_minus']=False\n",
    "p.rcParams['xtick.major.size']=6\n",
    "p.rcParams['xtick.minor.size']=3\n",
    "p.rcParams['xtick.major.width']=1.5#2.0\n",
    "p.rcParams['xtick.minor.width']=1.0\n",
    "p.rcParams['axes.linewidth']=2.5\n",
    "p.rcParams['axes.titlesize']=20#'large'\n",
    "p.rcParams['xtick.labelsize'] = 20#'x-large' # fontsize of the tick labels\n",
    "p.rcParams['ytick.labelsize']=20 #'x-large'\n",
    "p.rcParams['ytick.major.width']=2.0 #4\n",
    "p.rcParams['ytick.minor.width']=1.0 #2.0"
   ]
  },
  {
   "cell_type": "markdown",
   "id": "4285d8b3",
   "metadata": {},
   "source": [
    "## Define the constants in CGS\n",
    "Lets begin by defining some key constants in CGS (speed of light, boltzmaaan constant, electron mass, planck's constant, ..."
   ]
  },
  {
   "cell_type": "code",
   "execution_count": 2,
   "id": "25bb0add",
   "metadata": {},
   "outputs": [],
   "source": [
    "#5pts\n",
    "c = 3.0E-8  #speed of light \n",
    "k = 1.3807E-16\n",
    "evtoerg = 1.6E-12\n",
    "me = 9.109E-28 #electorn mass\n",
    "h = 6.62617E-27 #plancks constant\n",
    "Rh = 10973731.568E2 #rydberg constant\n"
   ]
  },
  {
   "cell_type": "markdown",
   "id": "f71ea129",
   "metadata": {},
   "source": [
    "# Coding up the Boltzmann Equation\n",
    "Lets write a defintion that take as input the the energy differences between two levels, the temperature of the gas and the density of states, and any other key information and outputs the ratio of the number density of atoms/ion in energy state A versus that of B. "
   ]
  },
  {
   "cell_type": "code",
   "execution_count": 3,
   "id": "084f573d",
   "metadata": {},
   "outputs": [],
   "source": [
    "# 5pts\n",
    "def Boltzmann_Eq(dE,T,g1,g2):\n",
    "    NANB = (g2/g1)*np.exp(-dE/(k*T))\n",
    "    return NANB\n"
   ]
  },
  {
   "cell_type": "markdown",
   "id": "d744a112",
   "metadata": {},
   "source": [
    "Q1: Determine the ratio of the H atoms which are at N=2 vs those at N=1 for a H gas at the temperature of the solar photosphere (5777K) (2pts)\n"
   ]
  },
  {
   "cell_type": "code",
   "execution_count": 4,
   "id": "0e969af9",
   "metadata": {},
   "outputs": [
    {
     "name": "stdout",
     "output_type": "stream",
     "text": [
      "A1 = 5.201545e-09\n"
     ]
    }
   ],
   "source": [
    "#insert answer / calculation here\n",
    "g1 = 2*1**2\n",
    "g2 = 2*2**2\n",
    "dE = 10.2 * evtoerg #13.6-10.2\n",
    "T = 5777\n",
    "print('A1 = %e'%Boltzmann_Eq(dE,T,g1,g2))"
   ]
  },
  {
   "cell_type": "markdown",
   "id": "64e23397",
   "metadata": {},
   "source": [
    "A1: 5.2E-9 (that is virtually all all atoms are in ground state; see above)"
   ]
  },
  {
   "cell_type": "markdown",
   "id": "4cba4049",
   "metadata": {},
   "source": [
    "Q2: Determine the ratio of the H atoms which are at N=2 vs those at N=1 for a H gas at the temperature an EXTREAMLY hot H gaseous photosphere (85,000K) (2pts)\n"
   ]
  },
  {
   "cell_type": "code",
   "execution_count": 5,
   "id": "d0f91ad6",
   "metadata": {},
   "outputs": [
    {
     "name": "stdout",
     "output_type": "stream",
     "text": [
      "A2 = 0.996\n"
     ]
    }
   ],
   "source": [
    "#insert answer / calculation here\n",
    "g1 = 2*1**2\n",
    "g2 = 2*2**2\n",
    "dE = 10.2 * evtoerg #13.6-10.2\n",
    "T = 85000\n",
    "print('A2 = %.3f'%Boltzmann_Eq(dE,T,g1,g2))"
   ]
  },
  {
   "cell_type": "markdown",
   "id": "32cf3c00",
   "metadata": {},
   "source": [
    "A2: ~1.0 (that is nearly half of the atoms are excited at N=2; see above)"
   ]
  },
  {
   "cell_type": "markdown",
   "id": "53a69080",
   "metadata": {},
   "source": [
    "## Coding up the Partition Function\n",
    "In order to determine to fraction of total population of atoms/ion at N=2 we need to know the total number of atoms across all states (via the partition function). Next write a function/definition that derives the parition functions given a temperature and the number of levels (num_levels) to sum over. "
   ]
  },
  {
   "cell_type": "code",
   "execution_count": 6,
   "id": "ff006454",
   "metadata": {},
   "outputs": [],
   "source": [
    "#10 pts\n",
    "def partition_function(T, num_levels=2):\n",
    "    #enter answer here\n",
    "    Z = [] #lets make an empty list that we will fill with the individual terms of the partition function to sum\n",
    "    ni = np.arange(1,num_levels+1,1) #make an array of states (n) that we will sum over\n",
    "    for i in np.arange(len(ni)): #lets loop over each state and \n",
    "        gi = 2*ni[i]**2 #density of states is = 2n^2\n",
    "        #Ei = (h*c*Rh)/ni[i]**2 #The erergy of the level is defined by the Rydberg formula \n",
    "        Ei = -((13.6/ni[i]**2) - 13.6) * evtoerg\n",
    "        Z.append(gi*np.exp(-Ei/(k*T))) #append result of the boltzman factor * density of states to the list\n",
    "    Z = sum(Z) #add all the terms of the parition function together\n",
    "    return Z #return the sum (i.e. the partition function)"
   ]
  },
  {
   "cell_type": "markdown",
   "id": "948454be",
   "metadata": {},
   "source": [
    "Q3: What is the partition function of a pure HI gas that is 10,000K when summing over just the first 2 energy level? (2pts)"
   ]
  },
  {
   "cell_type": "code",
   "execution_count": 7,
   "id": "59c77cdf",
   "metadata": {},
   "outputs": [
    {
     "data": {
      "text/plain": [
       "2.000058842291619"
      ]
     },
     "execution_count": 7,
     "metadata": {},
     "output_type": "execute_result"
    }
   ],
   "source": [
    "#enter calculation here\n",
    "partition_function(T=10000,num_levels=2)"
   ]
  },
  {
   "cell_type": "code",
   "execution_count": 8,
   "id": "43eea992",
   "metadata": {},
   "outputs": [],
   "source": [
    "A3: 2.000058"
   ]
  },
  {
   "cell_type": "markdown",
   "id": "b18b468e",
   "metadata": {},
   "source": [
    "Q4: What is the partition function of a pure HI gas that is 10,000K when summing over just the first 5 energy level? (2pts)"
   ]
  },
  {
   "cell_type": "code",
   "execution_count": 20,
   "id": "4a25c9be",
   "metadata": {},
   "outputs": [
    {
     "data": {
      "text/plain": [
       "2.0000993675558045"
      ]
     },
     "execution_count": 20,
     "metadata": {},
     "output_type": "execute_result"
    }
   ],
   "source": [
    "partition_function(T=10000,num_levels=5)"
   ]
  },
  {
   "cell_type": "code",
   "execution_count": 21,
   "id": "32ee2bb4",
   "metadata": {},
   "outputs": [],
   "source": [
    "A4: 2.0000993"
   ]
  },
  {
   "cell_type": "markdown",
   "id": "6767d080",
   "metadata": {},
   "source": [
    "Use what you have learned above to write down a function which defines the fraction of atoms in N=2 (i.e. $\\frac{n2}{n_{tot}}$)"
   ]
  },
  {
   "cell_type": "code",
   "execution_count": 22,
   "id": "6c4d3979",
   "metadata": {},
   "outputs": [],
   "source": [
    "#10 pts\n",
    "def Boltzmann_frac(n,T,num_levels=2):\n",
    "    gn = 2*n**2 \n",
    "    En = -((13.6/n**2) - 13.6) * evtoerg\n",
    "    Z = partition_function(T=T,num_levels=num_levels)\n",
    "    print(Z)\n",
    "    frac_B = gn*np.exp(-En/(k*T))/Z\n",
    "    \n",
    "    return frac_B"
   ]
  },
  {
   "cell_type": "markdown",
   "id": "0879066d",
   "metadata": {},
   "source": [
    "Q5: Determine the fraction of atoms/ion in a pure H gas of temperature of the gas  T~85000 K that are in the fundemental state (n=1). (2pts)"
   ]
  },
  {
   "cell_type": "code",
   "execution_count": 23,
   "id": "df1c9fc3",
   "metadata": {},
   "outputs": [
    {
     "name": "stdout",
     "output_type": "stream",
     "text": [
      "3.991409282279179\n",
      "0.5010761509423453\n"
     ]
    }
   ],
   "source": [
    "#insert answer here; 5pts\n",
    "print(Boltzmann_frac(n=1,T=8.5E4,num_levels=2))\n"
   ]
  },
  {
   "cell_type": "markdown",
   "id": "092c9d17",
   "metadata": {},
   "source": [
    "A5: Pure H gas at  T~85000 K has about 50 % that are in the fundemental state (n=1) "
   ]
  },
  {
   "cell_type": "markdown",
   "id": "0d97d48d",
   "metadata": {},
   "source": [
    "## Plotting the Boltzmann Equation"
   ]
  },
  {
   "cell_type": "markdown",
   "id": "5e0c5a1e",
   "metadata": {},
   "source": [
    "For a pure H gas, plot the fraction of atoms/ions that are in the ground (n=1) state as a function of the temperature of the gas (the temperature should range from 500 to 100,000 K). On the same figure, plot the first excited (i.e. Balmer; n=2) state using a different colored line. For this task you can sum over the first 2 energy levels for the partition function. Make sure to label your plot and provide axis labels."
   ]
  },
  {
   "cell_type": "code",
   "execution_count": 13,
   "id": "c419ef0c",
   "metadata": {},
   "outputs": [
    {
     "name": "stdout",
     "output_type": "stream",
     "text": [
      "[2.         2.         2.         ... 4.45320898 4.45323798 4.45326698]\n",
      "[2.         2.         2.         ... 4.45320898 4.45323798 4.45326698]\n"
     ]
    },
    {
     "data": {
      "application/vnd.jupyter.widget-view+json": {
       "model_id": "557515c801e348518f5431def6ee612e",
       "version_major": 2,
       "version_minor": 0
      },
      "text/plain": [
       "Canvas(toolbar=Toolbar(toolitems=[('Home', 'Reset original view', 'home', 'home'), ('Back', 'Back to previous …"
      ]
     },
     "metadata": {},
     "output_type": "display_data"
    }
   ],
   "source": [
    "#insert answer here 10pts\n",
    "Temps = np.arange(500,100000,1)\n",
    "p.close('all')\n",
    "frac_1 = Boltzmann_frac(n=1,T=Temps,num_levels=2)\n",
    "frac_2 = Boltzmann_frac(n=2,T=Temps,num_levels=2)\n",
    "#frac_3 = Boltzmann_frac(n=3,T=Temps,num_levels=2)\n",
    "\n",
    "p.figure()\n",
    "p.plot(Temps,frac_1, 'k-',label='Boltzmann Equation For Pure H Gas; n=1')\n",
    "p.plot(Temps,frac_2, 'r-',label='Boltzmann Equation For Pure H Gas; n=2')\n",
    "#p.plot(Temps,frac_3, 'c-',label='Boltzmann Equation For Pure H Gas; n=3')\n",
    "\n",
    "p.ylabel('ni/ntot') ; p.xlabel('Temperature (K)')\n",
    "p.legend()\n",
    "p.tight_layout()\n",
    "\n"
   ]
  },
  {
   "cell_type": "markdown",
   "id": "ca9ecbaf",
   "metadata": {},
   "source": [
    "# Coding up the Saha Equation\n",
    "Lets write a defintion that take as input the temperature of the gas, the number of levels to sum the partition function over, the ionization energy of the H gas and the number density of electrons in the gas and outputs the ratio of the number of atoms of H in neutral vs singly ionized. "
   ]
  },
  {
   "cell_type": "code",
   "execution_count": 14,
   "id": "c4ebd8a1",
   "metadata": {},
   "outputs": [],
   "source": [
    "# answer here 5pts\n",
    "def saha_Eq(T=10000,num_levels=2,xi=13.6,ne=2E12):\n",
    "    xi *= evtoerg #converts eV to ergs\n",
    "    ZII = 1 #from class\n",
    "    ZI = partition_function(T=T,num_levels=num_levels)\n",
    "    NIINI = ( (2*ZII)/(ne*ZI) )  * ( (2*np.pi*me*k*T)/(h**2) )**1.5 * np.exp(-xi/(k*T))\n",
    "    return NIINI\n"
   ]
  },
  {
   "cell_type": "markdown",
   "id": "331d9c5c",
   "metadata": {},
   "source": [
    "Q6: Using the above definition determine how much of a pure H gas at 5777K with an electron density of 10$^{12}$ cm$^{-2}$ is singly ionized. For simiplicity just sum of 2 energy levels in the partition function. (2pts)"
   ]
  },
  {
   "cell_type": "code",
   "execution_count": 15,
   "id": "f80e737f",
   "metadata": {},
   "outputs": [
    {
     "name": "stdout",
     "output_type": "stream",
     "text": [
      "0.998497432204036\n"
     ]
    }
   ],
   "source": [
    "#Compute Q6 here\n",
    "NIINI = saha_Eq(T=5777,num_levels=2,xi=13.6,ne=1E12)\n",
    "frac_NI = 1/(1+NIINI)\n",
    "#frac_NII = NIINI / (1+NIINI)\n",
    "print(frac_NI)"
   ]
  },
  {
   "cell_type": "markdown",
   "id": "dbb21456",
   "metadata": {},
   "source": [
    "A6: More than 99% of the HI gas is nuetral at the solar surface. "
   ]
  },
  {
   "cell_type": "markdown",
   "id": "bbb9eb8f",
   "metadata": {},
   "source": [
    "Q7: Using the above definition determine how much of a pure H gas at 85,000K with an electron density of 10$^{12}$ cm$^{-2}$ is singly ionized. For simiplicity just sum of 2 energy levels in the partition function. (2pts)"
   ]
  },
  {
   "cell_type": "code",
   "execution_count": 24,
   "id": "97409ae7",
   "metadata": {},
   "outputs": [
    {
     "name": "stdout",
     "output_type": "stream",
     "text": [
      "2.1299530828240018e-10\n"
     ]
    }
   ],
   "source": [
    "#Compute Q7 here\n",
    "NIINI = saha_Eq(T=85000,num_levels=2,xi=13.6,ne=1E12)\n",
    "frac_NI = 1/(1+NIINI)\n",
    "#frac_NII = NIINI / (1+NIINI)\n",
    "print(frac_NI)"
   ]
  },
  {
   "cell_type": "markdown",
   "id": "cd1783d0",
   "metadata": {},
   "source": [
    "A7: WAY LESS than 1% of the HI gas is nuetral at the 85000K which explains why we must account for the Saha equation "
   ]
  },
  {
   "cell_type": "markdown",
   "id": "523adc1f",
   "metadata": {},
   "source": [
    "## Visualizing the Saha Equation "
   ]
  },
  {
   "cell_type": "markdown",
   "id": "ba16b5cc",
   "metadata": {},
   "source": [
    "For a pure H gas, plot the fraction of HI atoms as in the gas as function of the temperature of the gas (the temperature should range from 500 to 100,000 K). On the same figure (but with a different line color), plot the fraction of HII atoms as in the gas as function of the temperature of the gas (the temperature should range from 500 to 100,000 K)  For this task you can sum over the first 2 energy levels for the partition function. Make sure to label your plot and provide axis labels.\n",
    "\n",
    "For this, assume that the pure H gas has an electron pressure of P$_e$ = 200 dyn cm$^{-2}$ (similar electron pressure in stars) and behaves like an ideal gas. "
   ]
  },
  {
   "cell_type": "code",
   "execution_count": 17,
   "id": "f135db32",
   "metadata": {},
   "outputs": [
    {
     "data": {
      "application/vnd.jupyter.widget-view+json": {
       "model_id": "5eb25a1a0a224247b544366191d28962",
       "version_major": 2,
       "version_minor": 0
      },
      "text/plain": [
       "Canvas(toolbar=Toolbar(toolitems=[('Home', 'Reset original view', 'home', 'home'), ('Back', 'Back to previous …"
      ]
     },
     "metadata": {},
     "output_type": "display_data"
    }
   ],
   "source": [
    "#insert answer here 10pts\n",
    "p.figure()\n",
    "Temps = np.arange(500,50000,1)\n",
    "Pe = 200 #dyne/cm^2\n",
    "ne = Pe/(k*Temps)\n",
    "NII_NI = saha_Eq(T=Temps,num_levels=2,xi=13.6,ne=ne)\n",
    "frac_NI_tot = 1/(1+NII_NI)\n",
    "frac_NII_tot = NII_NI / (1+NII_NI)\n",
    "\n",
    "p.plot(Temps,frac_NI_tot, 'k-',label='Saha Equation For Pure H gas in HI')\n",
    "p.plot(Temps,frac_NII_tot, 'r-',label='Saha Equation For Pure H gas in HII')\n",
    "\n",
    "p.ylabel('nion/ntot') ; p.xlabel('Temperature (K)')\n",
    "p.legend()\n",
    "p.tight_layout()"
   ]
  },
  {
   "cell_type": "markdown",
   "id": "62b1a84a",
   "metadata": {},
   "source": [
    "Q8: Using the above figure, at what temperature is more than 50% of this pure H gas singly ionized? (2pts)\n",
    "\n",
    "A8: 9500 K "
   ]
  },
  {
   "cell_type": "markdown",
   "id": "4bafdcea",
   "metadata": {},
   "source": [
    "## Putting it all Together: Visualize the Saha and Boltzmann Equations "
   ]
  },
  {
   "cell_type": "markdown",
   "id": "89ceac36",
   "metadata": {},
   "source": [
    "Now for the same gas plot the fraction of atoms at N=2 multiplied by the fraction of neutral atoms, i.e.\n",
    "$\\frac{N_1}{N_1+N_2} \\times \\frac{N_I}{N_I+N_{II}} $ as a function of temperature (ranging between 500, 25,000 K)\n",
    "\n",
    "The left hand side comes from the Boltzmann Equation while the right hand side comes from the Saha Equation."
   ]
  },
  {
   "cell_type": "code",
   "execution_count": 25,
   "id": "5f35c33f",
   "metadata": {
    "scrolled": true
   },
   "outputs": [
    {
     "data": {
      "application/vnd.jupyter.widget-view+json": {
       "model_id": "06664f2911d84549b887b3ed8fbb58d7",
       "version_major": 2,
       "version_minor": 0
      },
      "text/plain": [
       "Canvas(toolbar=Toolbar(toolitems=[('Home', 'Reset original view', 'home', 'home'), ('Back', 'Back to previous …"
      ]
     },
     "metadata": {},
     "output_type": "display_data"
    },
    {
     "name": "stdout",
     "output_type": "stream",
     "text": [
      "[2.         2.         2.         ... 2.07071042 2.07072379 2.07073717]\n"
     ]
    }
   ],
   "source": [
    "#10 pts\n",
    "#answer here\n",
    "p.figure()\n",
    "Temps = np.arange(500,25000,1)\n",
    "Pe = 200 #dyne/cm^2\n",
    "ne = Pe/(k*Temps)\n",
    "NII_NI = saha_Eq(T=Temps,num_levels=2,xi=13.6,ne=ne)\n",
    "frac_NI_tot = 1/(1+NII_NI)\n",
    "frac_NII_tot = NII_NI / (1+NII_NI)\n",
    "frac_2 = Boltzmann_frac(n=2,T=Temps,num_levels=2)\n",
    "\n",
    "p.plot(Temps, frac_NI_tot*frac_2,'k-',label='Combined Saha and Boltzmann Equation' )\n",
    "#p.plot(Temps,frac_NI_tot, 'k-',label='Saha Equation For Pure HI')\n",
    "#p.plot(Temps,frac_NII_tot, 'r-',label='Saha Equation For Pure HII')\n",
    "\n",
    "p.ylabel('nI/ntot * n2/ntot') ; p.xlabel('Temperature (K)')\n",
    "#p.legend()\n",
    "p.tight_layout()"
   ]
  },
  {
   "cell_type": "markdown",
   "id": "12b0a912",
   "metadata": {},
   "source": [
    "Q9: Using the above plot, at what temperature is does the fraction of the HI multiplied by the fraction of atoms at n=2 peak (i.e. at what temperature are the balmer lines going to be strongest). Which spectral type of star has this temperature? (4pts)\n",
    "\n",
    "\n",
    "A9: ~9800K"
   ]
  },
  {
   "cell_type": "code",
   "execution_count": null,
   "id": "dd4015e5",
   "metadata": {},
   "outputs": [],
   "source": []
  }
 ],
 "metadata": {
  "kernelspec": {
   "display_name": "Python 3",
   "language": "python",
   "name": "python3"
  },
  "language_info": {
   "codemirror_mode": {
    "name": "ipython",
    "version": 3
   },
   "file_extension": ".py",
   "mimetype": "text/x-python",
   "name": "python",
   "nbconvert_exporter": "python",
   "pygments_lexer": "ipython3",
   "version": "3.8.8"
  }
 },
 "nbformat": 4,
 "nbformat_minor": 5
}
