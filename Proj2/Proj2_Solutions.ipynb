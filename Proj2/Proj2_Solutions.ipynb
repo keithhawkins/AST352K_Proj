{
 "cells": [
  {
   "cell_type": "markdown",
   "id": "70850035",
   "metadata": {},
   "source": [
    "# Project 2: Building a Color Magnitude Diagram of Open and Globular Clusters"
   ]
  },
  {
   "cell_type": "markdown",
   "id": "4014b345",
   "metadata": {},
   "source": [
    "NAME: \n",
    "\n",
    "UTEID: \n",
    "\n",
    "DATE:\n",
    "\n",
    "\n",
    "Goals: The goal is to use Gaia data to find clusters in 2 'pointings' and plot \n",
    "\n",
    "Data sets: \n",
    "1. pointing1.fits [4.7MB] = this contains the data from a single pointing in Gaia DR3; https://utexas.box.com/s/iuoge4sslbqdp4bc01znzxueugdl1ui7\n",
    "2. pointing2.fits [6.6MB] = this contains the data from a second single pointing in Gaia DR3; https://utexas.box.com/s/hd3086ctmrilxq0v8pq6rted2cgd68k8\n",
    "\n",
    "\n",
    "Lets begin by loading our libraries: \n",
    "\n"
   ]
  },
  {
   "cell_type": "code",
   "execution_count": 1,
   "id": "fa947f31",
   "metadata": {},
   "outputs": [],
   "source": [
    "#lets make a plots interactive\n",
    "%matplotlib widget \n",
    "\n",
    "#Importing libraries \n",
    "import numpy as np\n",
    "import matplotlib.pyplot as p\n",
    "import astropy\n",
    "from astropy.table import Table\n",
    "import scipy.stats\n",
    "from astropy.coordinates import SkyCoord\n",
    "import astropy.units as u\n",
    "from astropy.coordinates import Galactic\n",
    "from astropy.coordinates import ICRS\n",
    "import astropy.coordinates as apycord\n",
    "import random\n",
    "from cycler import cycler\n",
    "import astropy.table\n",
    "\n",
    "#Lets set some of the default parameters for plotting. This cell is not needed but i like to style my plots.\n",
    "p.rc('axes',prop_cycle=(cycler('color', ['k','b','g','r','c','m','y'])))\n",
    "p.rcParams['lines.linewidth']= 1.5\n",
    "p.rcParams['axes.linewidth']=2.0\n",
    "#---comment this block if you do not have latex----\n",
    "p.rcParams['text.usetex']= True\n",
    "p.rcParams['mathtext.fontset']= 'custom'\n",
    "p.rcParams['mathtext.default']= 'rm'\n",
    "p.rcParams['axes.formatter.use_mathtext']=False\n",
    "#----------------------------------------\n",
    "p.rcParams['font.size']= 15.0\n",
    "p.rcParams['axes.labelsize']=16.0\n",
    "p.rcParams['axes.unicode_minus']=False\n",
    "p.rcParams['xtick.major.size']=6\n",
    "p.rcParams['xtick.minor.size']=3\n",
    "p.rcParams['xtick.major.width']=1.5#2.0\n",
    "p.rcParams['xtick.minor.width']=1.0\n",
    "p.rcParams['axes.linewidth']=2.5\n",
    "p.rcParams['axes.titlesize']=20#'large'\n",
    "p.rcParams['xtick.labelsize'] = 20#'x-large' # fontsize of the tick labels\n",
    "p.rcParams['ytick.labelsize']=20 #'x-large'\n",
    "p.rcParams['ytick.major.width']=2.0 #4\n",
    "p.rcParams['ytick.minor.width']=1.0 #2.0"
   ]
  },
  {
   "cell_type": "markdown",
   "id": "4285d8b3",
   "metadata": {},
   "source": [
    "## Loading the Data for the first pointing \n",
    "Now lets load in the Dataset for the first pointing and see whats inside (i.e. print the column names)"
   ]
  },
  {
   "cell_type": "code",
   "execution_count": 2,
   "id": "32e0c8df",
   "metadata": {},
   "outputs": [
    {
     "name": "stdout",
     "output_type": "stream",
     "text": [
      "['source_id', 'ra', 'dec', 'parallax', 'pmra', 'pmdec', 'phot_g_mean_mag', 'phot_bp_mean_mag', 'phot_rp_mean_mag', 'pmra_error', 'pmdec_error', 'ag_gspphot', 'azero_gspphot', 'bp_rp', 'ebpminrp_gspphot', 'radial_velocity', 'radial_velocity_error']\n"
     ]
    }
   ],
   "source": [
    "T = Table.read('./NGC188_in.fits') #1 pt\n",
    "T.remove_columns(['l','b'])\n",
    "T = T[np.where(T['ra']<=50)]\n",
    "COLS = T.colnames\n",
    "print(COLS)\n"
   ]
  },
  {
   "cell_type": "markdown",
   "id": "26528401",
   "metadata": {},
   "source": [
    "## Fake Cluster in Pointing 1 \n",
    "\n",
    "Lets make a fake cluster for pointing 1 (this will be in the soultions for completness but not the template)."
   ]
  },
  {
   "cell_type": "markdown",
   "id": "a60b5299",
   "metadata": {},
   "source": [
    "This will not be in the template but lets start making some \"FAKE\" clusters to make sure the students can distingish between real and fake clusters"
   ]
  },
  {
   "cell_type": "code",
   "execution_count": 3,
   "id": "93d0b9ef",
   "metadata": {},
   "outputs": [
    {
     "name": "stdout",
     "output_type": "stream",
     "text": [
      "    source_id              ra         ... radial_velocity_error\n",
      "                          deg         ...         km / s       \n",
      "------------------ ------------------ ... ---------------------\n",
      "574053612113914880 3.7005149342773342 ...                   nan\n",
      "574053616408992256  3.771305101604993 ...                   nan\n",
      "574053753848593536 3.2482962375558326 ...                   nan\n",
      "574053783912601344  3.520913828391704 ...                   nan\n",
      "574053783912608640 3.3461253245341953 ...                   nan\n",
      "574053788207614208  3.411162564634185 ...                   nan\n",
      "574053818271924096   3.38236383096802 ...                   nan\n",
      "574053818272063872 3.4032108631413704 ...                   nan\n",
      "574053818272347264 3.4689453458750945 ...                   nan\n",
      "574053818272350464  3.465682458957926 ...                   nan\n",
      "               ...                ... ...                   ...\n",
      "540002456920093390 10.467465139512434 ...     8.141793474687582\n",
      "540002456920093391 10.589547682425321 ...     2.569109282635671\n",
      "540002456920093392 11.178106950866216 ...    16.900249599706672\n",
      "540002456920093393 10.788361408413753 ...     12.22284410596148\n",
      "540002456920093394 10.250132252022597 ...    15.530685759143317\n",
      "540002456920093395 10.655042580063942 ...    11.442020781612895\n",
      "540002456920093396  8.708418826851926 ...    20.361765920813887\n",
      "540002456920093397   8.95252310641385 ...     13.80605501983692\n",
      "540002456920093398  8.459570371917447 ...    13.547345987055213\n",
      "540002456920093399 10.598721719137417 ...     8.769374259149187\n",
      "Length = 33454 rows\n"
     ]
    }
   ],
   "source": [
    "## lets start by make a fake cluster \n",
    "N_star_fake = [400,560] #how many fake stars and clusters? \n",
    "locs = [[10,85.8], [11.6,84.6]] # where do we put the fake cluster in RA/DEC\n",
    "sizes = [[1, 0.1], [1,0.1]] #how large to make the cluster in ra/dec\n",
    "for i in range(len(N_star_fake)): #loop over all fake clusters\n",
    "    if i ==1:\n",
    "        #remove this block if we want to make 2 fake clusters\n",
    "        continue \n",
    "    A = []\n",
    "    #make a cluster that is Guassian in RA/DEc\n",
    "    ras = np.random.normal(locs[i][0],sizes[i][0], size= N_star_fake[i])\n",
    "    decs = np.random.normal(locs[i][1],sizes[i][1], size= N_star_fake[i])\n",
    "    #---make fake source ids so i can find the fake cluster later\n",
    "    source_ids = ['540002456920093'+'%03i'%j for j in range(N_star_fake[i])]\n",
    "    if i == 0:\n",
    "        # -- lets make it so that the pmra and pmdec are clustered (Guassian) but parallax is uniform (i.e. not a real cluster)\n",
    "        parallaxs = np.random.uniform(0,1.2, size= N_star_fake[i])\n",
    "        pmras = np.random.normal(2,0.11, size= N_star_fake[i])\n",
    "        pmdecs = np.random.normal(4,0.10, size= N_star_fake[i])\n",
    "    elif i == 1:\n",
    "        # -- lets make it so that the parallax is cluster but not PMRA/PMDEC\n",
    "\n",
    "        parallaxs = np.random.normal(0.9,0.01, size= N_star_fake[i])\n",
    "        pmras = np.random.uniform(np.nanmin(T['pmra']),np.nanmax(T['pmra']), size= N_star_fake[i])\n",
    "        pmrdecs = np.random.uniform(np.nanmin(T['pmdec']),np.nanmax(T['pmdec']), size= N_star_fake[i])\n",
    "    A = Table() ; A['source_id'] = source_ids ; A['ra'] = ras; A['dec'] = decs; A['parallax'] = parallaxs\n",
    "    A['pmra'] = pmras;A['pmdec'] = pmdecs\n",
    "    for k in range(len(COLS[6:])):\n",
    "        #A.append( np.random.uniform(np.nanmin(T[COLS[k+6]]),np.nanmax(T[COLS[k+6]]), size= N_star_fake[i])  )\n",
    "        A[COLS[k+6]] = np.random.uniform(np.nanmin(T[COLS[k+6]]),np.nanmax(T[COLS[k+6]]), size= N_star_fake[i])\n",
    "        T = astropy.table.vstack([T,A])\n",
    "print(T)"
   ]
  },
  {
   "cell_type": "code",
   "execution_count": 4,
   "id": "5b1f0bf2",
   "metadata": {},
   "outputs": [],
   "source": [
    " #overwrite the old file with a new on with the fake clusters\n",
    "#T.write('./pointing1.fits',overwrite=True)"
   ]
  },
  {
   "cell_type": "markdown",
   "id": "8ade14a3",
   "metadata": {},
   "source": [
    "## Fake Cluster in Pointing 2\n",
    "\n",
    "Lets make a fake cluster for pointing 2 (this will be in the soultions for completness but not the template)."
   ]
  },
  {
   "cell_type": "code",
   "execution_count": 5,
   "id": "fa4516a5",
   "metadata": {},
   "outputs": [
    {
     "name": "stdout",
     "output_type": "stream",
     "text": [
      "['source_id', 'ra', 'dec', 'parallax', 'pmra', 'pmdec', 'phot_g_mean_mag', 'phot_bp_mean_mag', 'phot_rp_mean_mag', 'ag_gspphot', 'azero_gspphot', 'bp_rp', 'ebpminrp_gspphot', 'radial_velocity', 'radial_velocity_error']\n"
     ]
    },
    {
     "data": {
      "application/vnd.jupyter.widget-view+json": {
       "model_id": "28cbf760b55445d99f3a8f5c8cd83785",
       "version_major": 2,
       "version_minor": 0
      },
      "text/plain": [
       "Canvas(toolbar=Toolbar(toolitems=[('Home', 'Reset original view', 'home', 'home'), ('Back', 'Back to previous …"
      ]
     },
     "metadata": {},
     "output_type": "display_data"
    },
    {
     "data": {
      "text/plain": [
       "<matplotlib.collections.PolyCollection at 0x7fcca81d0940>"
      ]
     },
     "execution_count": 5,
     "metadata": {},
     "output_type": "execute_result"
    }
   ],
   "source": [
    "#lets load in the second pointing \n",
    "T2 = Table.read('./NGC2506.fits') #1 pt\n",
    "T2 = T2[np.where(T2['parallax']<3)[0]]\n",
    "COLS = T2.colnames\n",
    "print(COLS)\n",
    "#lets make a sky plot so i know where to put the clusters\n",
    "p.figure()\n",
    "p.hexbin(T2['ra'],T2['dec'],bins='log',mincnt=1)"
   ]
  },
  {
   "cell_type": "code",
   "execution_count": 6,
   "id": "a010a2c7",
   "metadata": {
    "scrolled": false
   },
   "outputs": [
    {
     "name": "stdout",
     "output_type": "stream",
     "text": [
      "     source_id              ra         ... radial_velocity_error\n",
      "                           deg         ...         km / s       \n",
      "------------------- ------------------ ... ---------------------\n",
      "3039002727032934272 120.37062687792344 ...                   nan\n",
      "3039002791454795264 120.35630375196034 ...                   nan\n",
      "3039002795752413952 120.35644230090544 ...                   nan\n",
      "3039002795752418816 120.34898926869961 ...                   nan\n",
      "3039002795753654528 120.34547277880894 ...                   nan\n",
      "3039002825814561536 120.36635975416503 ...                   nan\n",
      "3039002830112145536 120.36917882003377 ...                   nan\n",
      "3039002830112146048 120.36664544296738 ...                   nan\n",
      "3039003448587459328 120.32514278668481 ...                   nan\n",
      "3039003620386141568  120.3357096815728 ...                   nan\n",
      "                ...                ... ...                   ...\n",
      " 540002456920091550 120.20755984390073 ...    18.836555934801467\n",
      " 540002456920091551 120.09437569394932 ...    36.475264088186556\n",
      " 540002456920091552 120.15620890707275 ...     5.448999848732849\n",
      " 540002456920091553 120.19256123347898 ...      9.50395150623861\n",
      " 540002456920091554 120.04859593129818 ...     3.861909088832672\n",
      " 540002456920091555 120.15054044238111 ...     20.86508828528382\n",
      " 540002456920091556  120.2716724148994 ...    28.727674312785343\n",
      " 540002456920091557 120.19282925457614 ...     5.176331069549221\n",
      " 540002456920091558 120.09656456300434 ...    26.801007446175706\n",
      " 540002456920091559 120.07884461539317 ...    0.7996307833739742\n",
      "Length = 52836 rows\n"
     ]
    },
    {
     "data": {
      "application/vnd.jupyter.widget-view+json": {
       "model_id": "101d44dfcd2d48559ac575ffd167113d",
       "version_major": 2,
       "version_minor": 0
      },
      "text/plain": [
       "Canvas(toolbar=Toolbar(toolitems=[('Home', 'Reset original view', 'home', 'home'), ('Back', 'Back to previous …"
      ]
     },
     "metadata": {},
     "output_type": "display_data"
    },
    {
     "data": {
      "text/plain": [
       "<matplotlib.collections.PolyCollection at 0x7fccc8f4f970>"
      ]
     },
     "execution_count": 6,
     "metadata": {},
     "output_type": "execute_result"
    }
   ],
   "source": [
    "#using the above lets insert !2 fake clusters into pointing two\n",
    "\n",
    "## lets start by make a fake cluster \n",
    "N_star_fake = [200,560] #how many fake stars and clusters? \n",
    "locs = [[120.426,-10.023], [120.17,-11.617]] # where do we put the fake cluster in RA/DEC\n",
    "sizes = [[0.1, 0.1], [0.1,0.1]] #how large to make the cluster in ra/dec\n",
    "for i in range(len(N_star_fake)): #loop over all fake clusters\n",
    "    #if i ==1:\n",
    "        #remove this block if we want to make 2 fake clusters\n",
    "        #continue \n",
    "    A = []\n",
    "    #make a cluster that is Guassian in RA/DEc\n",
    "    ras = np.random.normal(locs[i][0],sizes[i][0], size= N_star_fake[i])\n",
    "    decs = np.random.normal(locs[i][1],sizes[i][1], size= N_star_fake[i])\n",
    "    #---make fake source ids so i can find the fake cluster later\n",
    "    source_ids = ['54000245692009%i'%i+'%03i'%j for j in range(N_star_fake[i])]\n",
    "    if i == 0:\n",
    "        # -- lets make it so that the pmra and pmdec are clustered (Guassian) but parallax is uniform (i.e. not a real cluster)\n",
    "        parallaxs = np.random.uniform(0,1.2, size= N_star_fake[i])\n",
    "        pmras = np.random.uniform(-5,0, size= N_star_fake[i])\n",
    "        pmdecs = np.random.uniform(-20,-40, size= N_star_fake[i])\n",
    "    elif i == 1:\n",
    "        # -- lets make it so that the parallax is cluster but not PMRA/PMDEC\n",
    "        parallaxs = np.random.uniform(0,1.3, size= N_star_fake[i])\n",
    "        pmras = np.random.uniform(-5,0, size= N_star_fake[i])\n",
    "        pmdecs = np.random.uniform(-40,-45, size= N_star_fake[i])\n",
    "\n",
    "        \n",
    "    #write to a temp table     \n",
    "    A = Table() ; A['source_id'] = source_ids ; A['ra'] = ras; A['dec'] = decs; A['parallax'] = parallaxs\n",
    "    A['pmra'] = pmras;A['pmdec'] = pmdecs\n",
    "    for k in range(len(COLS[6:])):\n",
    "        #add row information sampling from a random distrubtion.\n",
    "        A[COLS[k+6]] = np.random.uniform(np.nanmin(T2[COLS[k+6]]),np.nanmax(T2[COLS[k+6]]), size= N_star_fake[i])\n",
    "        #conctat the temp and main tabkles\n",
    "        T2 = astropy.table.vstack([T2,A])\n",
    "print(T2)\n",
    "\n",
    "p.figure()\n",
    "p.hexbin(T2['ra'],T2['dec'],bins='log',mincnt=1)"
   ]
  },
  {
   "cell_type": "markdown",
   "id": "0fa8be80",
   "metadata": {},
   "source": [
    "lets write out the second pointing data"
   ]
  },
  {
   "cell_type": "code",
   "execution_count": 7,
   "id": "dafe7bb6",
   "metadata": {},
   "outputs": [],
   "source": [
    "#T2.write('./pointing2.fits',overwrite=True)"
   ]
  },
  {
   "cell_type": "markdown",
   "id": "30b44095",
   "metadata": {},
   "source": [
    "## Load in Pointing 1\n",
    "Lets begin with 1 pointing at a time to make things easier. \n",
    "\n",
    "Step 1: Lets load in the data and see whats there."
   ]
  },
  {
   "cell_type": "code",
   "execution_count": 8,
   "id": "1353805e",
   "metadata": {},
   "outputs": [
    {
     "name": "stdout",
     "output_type": "stream",
     "text": [
      "['source_id', 'ra', 'dec', 'parallax', 'pmra', 'pmdec', 'phot_g_mean_mag', 'phot_bp_mean_mag', 'phot_rp_mean_mag', 'pmra_error', 'pmdec_error', 'ag_gspphot', 'azero_gspphot', 'bp_rp', 'ebpminrp_gspphot', 'radial_velocity', 'radial_velocity_error']\n"
     ]
    }
   ],
   "source": [
    "T = Table.read('./pointing1.fits')\n",
    "print(T.colnames)"
   ]
  },
  {
   "cell_type": "markdown",
   "id": "fcca49b8",
   "metadata": {},
   "source": [
    "You should get something like the following columns\n",
    "'source_id' = source id of the star\n",
    "\n",
    " 'source_id' = source id of the star\n",
    " \n",
    " 'ra', = RA in deg \n",
    " \n",
    " 'dec', = declination in deg\n",
    " \n",
    " 'parallax', = parallax in mas\n",
    " \n",
    " 'pmra', = proper motion * cos(DEC) in the RA direction in mas/yr\n",
    " \n",
    " 'pmdec', proper motion in declination in in mas/yr\n",
    " \n",
    " 'phot_g_mean_mag', apparent G magnitude in mag\n",
    " \n",
    " 'phot_bp_mean_mag',apparent BP magnitude in mag\n",
    " \n",
    " 'phot_rp_mean_mag',apparent RP magnitude in mag\n",
    " \n",
    " 'pmra_error', = error in proper motion * cos(DEC) in the RA direction in mas/yr\n",
    " \n",
    " 'pmdec_error', error proper motion in declination in mas/yr\n",
    " \n",
    " 'bp_rp', BP-RP\n",
    " \n",
    " 'ag_gspphot', A_G (extinction in Gaia G) in mag\n",
    " \n",
    " 'azero_gspphot', A0_G specific extinction in G at 550 nm \n",
    " \n",
    " 'ebpminrp_gspphot', E(BP-RP) reddening in mag\n",
    " \n",
    " \n",
    " 'radial_velocity' = Radial Velocity in km/s\n",
    " \n",
    " 'radial_velocity_error' = error Radial Velocity in km/s\n",
    " "
   ]
  },
  {
   "cell_type": "markdown",
   "id": "ae1ff5e2",
   "metadata": {},
   "source": [
    "## Plot the Equatorial positions for Pointing 1\n"
   ]
  },
  {
   "cell_type": "markdown",
   "id": "5fc58e30",
   "metadata": {},
   "source": [
    "Plot a 2-D histogram (hexbin) of the sky positions of the stars in pointing 1"
   ]
  },
  {
   "cell_type": "code",
   "execution_count": 9,
   "id": "b116d77c",
   "metadata": {},
   "outputs": [
    {
     "data": {
      "application/vnd.jupyter.widget-view+json": {
       "model_id": "0e96a086ddd84008be49f9708293ac91",
       "version_major": 2,
       "version_minor": 0
      },
      "text/plain": [
       "Canvas(toolbar=Toolbar(toolitems=[('Home', 'Reset original view', 'home', 'home'), ('Back', 'Back to previous …"
      ]
     },
     "metadata": {},
     "output_type": "display_data"
    }
   ],
   "source": [
    "#plotting Equatorial coordinates in a 2-d histogram. DO NOT USE PLOT because it will take a long time to render\n",
    "p.figure()\n",
    "s= p.hexbin(T['ra'],T['dec'], bins='log',mincnt=5)\n",
    "p.colorbar(s,label='log(N)')\n",
    "p.xlabel('RA (deg)');p.ylabel('DEC (deg)')\n",
    "p.tight_layout()\n",
    "#plotting Galactic coordinates in a 2-d histogram. DO NOT USE PLOT because it will take a long time to render\n",
    "\n",
    "#try changing the mincnt in the hexbin from 1 to 5 and see what happens \n",
    "\n"
   ]
  },
  {
   "cell_type": "markdown",
   "id": "a650a935",
   "metadata": {},
   "source": [
    "Q1: Are there any overdensitites in the feild? If so, how many\n",
    "\n",
    "A1: YES, 2\n",
    "\n",
    "If there are any overdensity select them using the where function and print how many stars are in each."
   ]
  },
  {
   "cell_type": "code",
   "execution_count": 10,
   "id": "8df53cab",
   "metadata": {},
   "outputs": [
    {
     "name": "stdout",
     "output_type": "stream",
     "text": [
      "There are 2233 stars in OV1 and 5819 stars in OV2\n"
     ]
    }
   ],
   "source": [
    "#-- select any overdensities with the where function. Remember that conditions must be in the form:\n",
    "# np.where((condition 1)&(condition 2) & (...))[0]\n",
    "\n",
    "OV1 = np.where((T['dec'] > 85.086)& (T['dec'] < 85.431) & (T['ra'] < 14.60) & (T['ra'] > 9.84 ))[0] \n",
    "OV2 = np.where((T['dec'] > 85.585)& (T['dec'] < 86.037) & (T['ra'] < 12.70) & (T['ra'] > 7.38 ))[0] \n",
    "\n",
    "print('There are %i stars in OV1 and %i stars in OV2'%(len(OV1),len(OV2)))"
   ]
  },
  {
   "cell_type": "markdown",
   "id": "a94d5eb5",
   "metadata": {},
   "source": [
    "## Finding Clusters in Pointing 1"
   ]
  },
  {
   "cell_type": "markdown",
   "id": "5e8f3fc2",
   "metadata": {},
   "source": [
    "We must now turn our attention to determining if any of the overdensities (if there were any) are actual clusters or not. \n",
    "\n",
    "We will start by looking at the PMRA/PMDEC space and the the parallax distribution of any overdensities that were found in the spatial plots above. "
   ]
  },
  {
   "cell_type": "markdown",
   "id": "86de0742",
   "metadata": {},
   "source": [
    "Lets now plot the 2d distribution (hexbin) of  PMRA and PMDEC for any spatial overdensity regions seperatly (make sure to label the plot using plt.title('name of the plot'). I would HIGHLY reccomend using a mincount (mincnt) of 1 stars per bin, log bins, a gridsize (gridsize=150).  "
   ]
  },
  {
   "cell_type": "code",
   "execution_count": 11,
   "id": "0bce5c3d",
   "metadata": {},
   "outputs": [
    {
     "data": {
      "application/vnd.jupyter.widget-view+json": {
       "model_id": "eff9e26bb01c4164bec040af8f5bf46c",
       "version_major": 2,
       "version_minor": 0
      },
      "text/plain": [
       "Canvas(toolbar=Toolbar(toolitems=[('Home', 'Reset original view', 'home', 'home'), ('Back', 'Back to previous …"
      ]
     },
     "metadata": {},
     "output_type": "display_data"
    },
    {
     "data": {
      "application/vnd.jupyter.widget-view+json": {
       "model_id": "eb3ae3c5b5bd4e4a97f22af8a79a617b",
       "version_major": 2,
       "version_minor": 0
      },
      "text/plain": [
       "Canvas(toolbar=Toolbar(toolitems=[('Home', 'Reset original view', 'home', 'home'), ('Back', 'Back to previous …"
      ]
     },
     "metadata": {},
     "output_type": "display_data"
    }
   ],
   "source": [
    "p.figure()\n",
    "s = p.hexbin(T['pmra'][OV1],T['pmdec'][OV1],bins='log',mincnt=1,gridsize=150)\n",
    "p.colorbar(s)\n",
    "p.xlabel('PMRA (mas/yr)')\n",
    "p.ylabel('PMDEC (mas/yr)')\n",
    "p.title('Overdensity 1')\n",
    "p.tight_layout()\n",
    "\n",
    "\n",
    "p.figure()\n",
    "s = p.hexbin(T['pmra'][OV2],T['pmdec'][OV2],bins='log',mincnt=1,gridsize=150)\n",
    "p.colorbar(s)\n",
    "#p.plot(T['pmra'][OV1],T['pmdec'][OV1],'k.',alpha=0.4,label='OV1')\n",
    "#p.plot(T['pmra'][OV2],T['pmdec'][OV2],'r.',alpha=0.4,label='OV2')\n",
    "p.xlabel('PMRA (mas/yr)')\n",
    "p.ylabel('PMDEC (mas/yr)')\n",
    "p.title('Overdensity 2')\n",
    "p.tight_layout()\n"
   ]
  },
  {
   "cell_type": "markdown",
   "id": "773c815b",
   "metadata": {},
   "source": [
    "Q2: Are there any overdensities found in the PMRA/PMDEC plot of any of the spatially dense regions (in RA/DEC)? If so, what do these mean?\n",
    "\n",
    "A2: Yes each spatially dense region has a single overdensity meaning that there are starts in that spatially dense region that are all moving together in the same direction at the same amplitude. This is exactly what we need for a cluster. But we will need to check that the stars are co-located in the same 3-d sapce."
   ]
  },
  {
   "cell_type": "markdown",
   "id": "6070c764",
   "metadata": {},
   "source": [
    "For all spatial overdensitites identify the location of the proper motion overdensity (if any) using the where function."
   ]
  },
  {
   "cell_type": "code",
   "execution_count": 12,
   "id": "119cfa5f",
   "metadata": {},
   "outputs": [],
   "source": [
    "OV1_PM = np.where((T['pmra'][OV1] >-3.35) & (T['pmra'][OV1] <-1.05) & \\\n",
    "                  (T['pmdec'][OV1] >-1.63) & (T['pmdec'][OV1] <-0.45) )[0]\n",
    "\n",
    "OV2_PM = np.where((T['pmra'][OV2] >1.46) & (T['pmra'][OV2] <2.94 ) & \\\n",
    "                  (T['pmdec'][OV2] >3.25) & (T['pmdec'][OV2] <4.45) )[0]\n",
    "\n",
    "CL1 = OV1[OV1_PM]\n",
    "CL2 = OV2[OV2_PM]"
   ]
  },
  {
   "cell_type": "markdown",
   "id": "ccff0ac2",
   "metadata": {},
   "source": [
    "Plot the parallax distrubtion (on a single plot/figure) for each cluster candidate"
   ]
  },
  {
   "cell_type": "code",
   "execution_count": 13,
   "id": "85df1edd",
   "metadata": {},
   "outputs": [
    {
     "data": {
      "application/vnd.jupyter.widget-view+json": {
       "model_id": "0d0028a6aa9a4594b8e7f76fd859a90a",
       "version_major": 2,
       "version_minor": 0
      },
      "text/plain": [
       "Canvas(toolbar=Toolbar(toolitems=[('Home', 'Reset original view', 'home', 'home'), ('Back', 'Back to previous …"
      ]
     },
     "metadata": {},
     "output_type": "display_data"
    }
   ],
   "source": [
    "p.figure()\n",
    "p.hist(T['parallax'][CL1], color='k',histtype='step',label='OV1',lw=2,density=True,bins='scott')\n",
    "p.hist(T['parallax'][CL2], color='r',histtype='step',label='OV2',lw=2,density=True,bins='scott')\n",
    "p.legend()\n",
    "p.xlabel('parallax (mas)');p.ylabel('Normed N')\n",
    "p.tight_layout()\n"
   ]
  },
  {
   "cell_type": "markdown",
   "id": "f0aa458b",
   "metadata": {},
   "source": [
    "Q3 : How many real clusters are in Pointing 1? How do you know?\n",
    "\n",
    "A3: There is 1 cluster in pointing 1 since it clumps in ra/dec/parallax/pmra/pmdec space. The parallax distribution of the second overdensity is uniform NOT peaked as such the stars are uniformly distributed along the line of sight. Therefore cluster 2 is *NOT* a cluster. NOTE: It also clumps in RV space but there are not enough RVs \n"
   ]
  },
  {
   "cell_type": "markdown",
   "id": "472c8e61",
   "metadata": {},
   "source": [
    "For any real cluster, compute the median and standard deivation of the parallaxes"
   ]
  },
  {
   "cell_type": "code",
   "execution_count": 14,
   "id": "6fd61928",
   "metadata": {},
   "outputs": [
    {
     "name": "stdout",
     "output_type": "stream",
     "text": [
      "The median (std) parallax is 0.52 (0.16) with 986 stars\n"
     ]
    }
   ],
   "source": [
    "medpar = np.median(T['parallax'][CL1])\n",
    "stdpar = np.std(T['parallax'][CL1])\n",
    "print('The median (std) parallax is %.2f (%.2f) with %i stars'%(medpar, stdpar, len(CL1)))"
   ]
  },
  {
   "cell_type": "markdown",
   "id": "8917ed15",
   "metadata": {},
   "source": [
    "Q4: What is the median distance to any clusters you found (ignore the effects of parallax uncertainties)?\n",
    "\n",
    "A4: The cluster is NGC 188. The median parallax is 0.52-0.63 mas and thus this cluster is at a distance of 1.58-1.92 kpc (true cluster distance ~1.66kpc)"
   ]
  },
  {
   "cell_type": "markdown",
   "id": "94cf1320",
   "metadata": {},
   "source": [
    "## Plot the Color-Abs magnitude Diagram for Clusters in Pointing 1\n",
    "Lets now plot the Color absolute magntiude diagram for each cluster found in pointing 1. Lets make sure to plot them on the same diagram for comparision.  "
   ]
  },
  {
   "cell_type": "code",
   "execution_count": 15,
   "id": "d9d9cd50",
   "metadata": {},
   "outputs": [
    {
     "data": {
      "application/vnd.jupyter.widget-view+json": {
       "model_id": "2fa8dd30520147a18ac9c3ff9529c55c",
       "version_major": 2,
       "version_minor": 0
      },
      "text/plain": [
       "Canvas(toolbar=Toolbar(toolitems=[('Home', 'Reset original view', 'home', 'home'), ('Back', 'Back to previous …"
      ]
     },
     "metadata": {},
     "output_type": "display_data"
    }
   ],
   "source": [
    "#lets now compute the absolute magnitude\n",
    "T['absG'] = T['phot_g_mean_mag'] - 5*(np.log10(1000/T['parallax'])-1)\n",
    "#lets now plot any found clusters on the same diagram!\n",
    "p.figure()\n",
    "p.plot(T['bp_rp'][CL1], T['absG'][CL1],'k.',label='Cluster 1')\n",
    "p.xlabel('(BP-RP)/mag')\n",
    "p.ylabel(r'$M_G$/mag')\n",
    "p.legend()\n",
    "p.gca().invert_yaxis()\n",
    "p.tight_layout()"
   ]
  },
  {
   "cell_type": "markdown",
   "id": "5b9b3479",
   "metadata": {},
   "source": [
    "## Load in Pointing 2\n",
    "Lets begin with 1 pointing at a time to make things easier. \n",
    "\n",
    "Lets load in the data and see whats there."
   ]
  },
  {
   "cell_type": "code",
   "execution_count": 16,
   "id": "0cf68562",
   "metadata": {},
   "outputs": [
    {
     "name": "stdout",
     "output_type": "stream",
     "text": [
      "['source_id', 'ra', 'dec', 'parallax', 'pmra', 'pmdec', 'phot_g_mean_mag', 'phot_bp_mean_mag', 'phot_rp_mean_mag', 'pmra_error', 'pmdec_error', 'ag_gspphot', 'azero_gspphot', 'bp_rp', 'ebpminrp_gspphot', 'radial_velocity', 'radial_velocity_error', 'absG']\n"
     ]
    }
   ],
   "source": [
    "T2 = Table.read('./pointing2.fits')\n",
    "print(T.colnames)"
   ]
  },
  {
   "cell_type": "markdown",
   "id": "ae4ec079",
   "metadata": {},
   "source": [
    "You should get something like the following columns\n",
    "'source_id' = source id of the star\n",
    "\n",
    " 'source_id' = source id of the star\n",
    " \n",
    " 'ra', = RA in deg \n",
    " \n",
    " 'dec', = declination in deg\n",
    " \n",
    " 'parallax', = parallax in mas\n",
    " \n",
    " 'pmra', = proper motion * cos(DEC) in the RA direction in mas/yr\n",
    " \n",
    " 'pmdec', proper motion in declination in in mas/yr\n",
    " \n",
    " 'phot_g_mean_mag', apparent G magnitude in mag\n",
    " \n",
    " 'phot_bp_mean_mag',apparent BP magnitude in mag\n",
    " \n",
    " 'phot_rp_mean_mag',apparent RP magnitude in mag\n",
    "  \n",
    " 'ag_gspphot', A_G (extinction in Gaia G) in mag\n",
    " \n",
    " 'azero_gspphot', A0_G specific extinction in G at 550 nm \n",
    " \n",
    " 'bp_rp', BP-RP\n",
    " \n",
    " 'ebpminrp_gspphot', E(BP-RP) reddening in mag\n",
    " \n",
    " 'radial_velocity' = Radial Velocity in km/s\n",
    " \n",
    " 'radial_velocity_error' = error Radial Velocity in km/s\n",
    " "
   ]
  },
  {
   "cell_type": "markdown",
   "id": "df1126cd",
   "metadata": {},
   "source": [
    "## Plot the Equatorial positions for Pointing 2\n"
   ]
  },
  {
   "cell_type": "markdown",
   "id": "4da68348",
   "metadata": {},
   "source": [
    "We must now turn our attention to determining if any of the overdensities (if there were any) are actual clusters or not. \n",
    "\n",
    "We will start by looking at the PMRA/PMDEC space and the the parallax distribution of any overdensities that were found in the spatial plots above. "
   ]
  },
  {
   "cell_type": "code",
   "execution_count": 17,
   "id": "416f1dc6",
   "metadata": {},
   "outputs": [
    {
     "data": {
      "application/vnd.jupyter.widget-view+json": {
       "model_id": "188fb00599ef41a68a78c1e2c1430169",
       "version_major": 2,
       "version_minor": 0
      },
      "text/plain": [
       "Canvas(toolbar=Toolbar(toolitems=[('Home', 'Reset original view', 'home', 'home'), ('Back', 'Back to previous …"
      ]
     },
     "metadata": {},
     "output_type": "display_data"
    }
   ],
   "source": [
    "#plotting Equatorial coordinates in a 2-d histogram. DO NOT USE PLOT because it will take a long time to render\n",
    "p.figure()\n",
    "s= p.hexbin(T2['ra'],T2['dec'], bins='log',mincnt=5)\n",
    "p.colorbar(s,label='log(N)')\n",
    "p.xlabel('RA (deg)');p.ylabel('DEC (deg)')\n",
    "p.tight_layout()\n",
    "#plotting Galactic coordinates in a 2-d histogram. DO NOT USE PLOT because it will take a long time to render\n",
    "\n",
    "#try changing the mincnt in the hexbin from 1 to 5 and see what happens \n",
    "\n"
   ]
  },
  {
   "cell_type": "markdown",
   "id": "e748a709",
   "metadata": {},
   "source": [
    "Q5: Are there any overdensitites in the feild? If so, how many\n",
    "\n",
    "A5: YES, 3\n",
    "\n",
    "If there are any overdensity select them using the where function and print how many stars are in each."
   ]
  },
  {
   "cell_type": "code",
   "execution_count": 18,
   "id": "6e721ba7",
   "metadata": {},
   "outputs": [
    {
     "name": "stdout",
     "output_type": "stream",
     "text": [
      "There are 2200 stars in OV1 and 816 stars in OV2 and 5471 in OV3\n"
     ]
    }
   ],
   "source": [
    "#-- select any overdensities with the where function. Remember that conditions must be in the form:\n",
    "# np.where((condition 1)&(condition 2) & (...))[0]\n",
    "\n",
    "OV1 = np.where((T2['dec'] > -10.21)& (T2['dec'] < -9.858) & (T2['ra'] < 120.6) & (T2['ra'] > 120.264 ))[0] \n",
    "OV2 = np.where((T2['dec'] > -10.892 )& (T2['dec'] < -10.669 ) & (T2['ra'] < 120.104) & (T2['ra'] > 119.909 ))[0]  \n",
    "OV3 = np.where((T2['dec'] > -11.82)& (T2['dec'] < -11.365) & (T2['ra'] < 120.351) & (T2['ra'] > 120.011 ))[0] \n",
    "\n",
    "print('There are %i stars in OV1 and %i stars in OV2 and %i in OV3'%(len(OV1),len(OV2),len(OV3)))"
   ]
  },
  {
   "cell_type": "markdown",
   "id": "23d90b35",
   "metadata": {},
   "source": [
    "## Finding Clusters in Pointing 2"
   ]
  },
  {
   "cell_type": "markdown",
   "id": "6ac3bbcc",
   "metadata": {},
   "source": [
    "We must now turn our attention to determining if any of the overdensities (if there were any) are actual clusters or not. \n",
    "\n",
    "If there are any overdensities plot the parallax distrbtion of each overdensity on a single plot. The bins should use \"Scott's\" rule. "
   ]
  },
  {
   "cell_type": "markdown",
   "id": "ad192206",
   "metadata": {},
   "source": [
    "Lets now plot the 2d distribution (hexbin) of  PMRA and PMDEC for any spatial overdensity regions seperatly (make sure to label the plot using plt.title('name of the plot'). I would HIGHLY reccomend using a mincount (mincnt) of 1 stars per bin, log bins, a gridsize (gridsize=150).  "
   ]
  },
  {
   "cell_type": "code",
   "execution_count": 19,
   "id": "8e22bcf6",
   "metadata": {},
   "outputs": [
    {
     "data": {
      "application/vnd.jupyter.widget-view+json": {
       "model_id": "a024b506ef184f078c958bb43eb0deb6",
       "version_major": 2,
       "version_minor": 0
      },
      "text/plain": [
       "Canvas(toolbar=Toolbar(toolitems=[('Home', 'Reset original view', 'home', 'home'), ('Back', 'Back to previous …"
      ]
     },
     "metadata": {},
     "output_type": "display_data"
    },
    {
     "data": {
      "application/vnd.jupyter.widget-view+json": {
       "model_id": "9c68415f2d7d41b2879a3d42c39c4b94",
       "version_major": 2,
       "version_minor": 0
      },
      "text/plain": [
       "Canvas(toolbar=Toolbar(toolitems=[('Home', 'Reset original view', 'home', 'home'), ('Back', 'Back to previous …"
      ]
     },
     "metadata": {},
     "output_type": "display_data"
    },
    {
     "data": {
      "application/vnd.jupyter.widget-view+json": {
       "model_id": "1a6dfbba201040beb24f17e224d95fc3",
       "version_major": 2,
       "version_minor": 0
      },
      "text/plain": [
       "Canvas(toolbar=Toolbar(toolitems=[('Home', 'Reset original view', 'home', 'home'), ('Back', 'Back to previous …"
      ]
     },
     "metadata": {},
     "output_type": "display_data"
    }
   ],
   "source": [
    "p.figure()\n",
    "s = p.hexbin(T2['pmra'][OV1],T2['pmdec'][OV1],bins='log',mincnt=1,gridsize=50)\n",
    "p.colorbar(s,label='log(N)')\n",
    "p.xlabel('PMRA (mas/yr)')\n",
    "p.ylabel('PMDEC (mas/yr)')\n",
    "p.title('Overdensity 1')\n",
    "p.tight_layout()\n",
    "\n",
    "\n",
    "p.figure()\n",
    "s = p.hexbin(T2['pmra'][OV2],T2['pmdec'][OV2],bins='log',mincnt=1,gridsize=50)\n",
    "p.colorbar(s,label='log(N)')\n",
    "p.xlabel('PMRA (mas/yr)')\n",
    "p.ylabel('PMDEC (mas/yr)')\n",
    "p.title('Overdensity 2')\n",
    "p.tight_layout()\n",
    "\n",
    "p.figure()\n",
    "s = p.hexbin(T2['pmra'][OV3],T2['pmdec'][OV3],bins='log',mincnt=1,gridsize=50)\n",
    "p.colorbar(s,label='log(N)')\n",
    "p.xlabel('PMRA (mas/yr)')\n",
    "p.ylabel('PMDEC (mas/yr)')\n",
    "p.title('Overdensity 3')\n",
    "p.tight_layout()\n"
   ]
  },
  {
   "cell_type": "markdown",
   "id": "157cacba",
   "metadata": {},
   "source": [
    "Q6: Are there any *signficant* (key word signficant meaning well above the background) overdensities found in the PMRA/PMDEC plot(s) of any of the spatially dense regions (in RA/DEC)? If so, what do these mean?\n",
    "\n",
    "A6: Yes each spatially dense region has a single overdensity meaning that there are starts in that spatially dense region that are all moving together in the same direction at the same amplitude. This is exactly what we need for a cluster. But we will need to check that the stars are co-located in the same 3-d sapce. NOTE that Clusters 1,3 the overdensity in PMRA/PMDEC are WAY too large (i.e. the stars aren't truly moving together)"
   ]
  },
  {
   "cell_type": "markdown",
   "id": "2c89a786",
   "metadata": {},
   "source": [
    "For all (signficant) spatial overdensitites identify the location of the proper motion overdensity (if any) using the where function."
   ]
  },
  {
   "cell_type": "code",
   "execution_count": 20,
   "id": "8a11d43e",
   "metadata": {},
   "outputs": [],
   "source": [
    "OV1_PM = np.where((T2['pmra'][OV1] >-5) & (T2['pmra'][OV1] <0) & \\\n",
    "                  (T2['pmdec'][OV1] >-40) & (T2['pmdec'][OV1] <-20) )[0]\n",
    "\n",
    "OV2_PM = np.where((T2['pmra'][OV2] >-2.91) & (T2['pmra'][OV2] <-2.19 ) & \\\n",
    "                  (T2['pmdec'][OV2] >3.07) & (T2['pmdec'][OV2] <4.28) )[0]\n",
    "\n",
    "OV3_PM = np.where((T2['pmra'][OV3] >-10) & (T2['pmra'][OV3] <2) & \\\n",
    "                  (T2['pmdec'][OV3] >-45) & (T2['pmdec'][OV3] <-35) )[0]\n",
    "\n",
    "CL1_2 = OV1[OV1_PM]\n",
    "CL2_2 = OV2[OV2_PM]\n",
    "CL3_2 = OV3[OV3_PM]"
   ]
  },
  {
   "cell_type": "markdown",
   "id": "dfaf44ce",
   "metadata": {},
   "source": [
    "Plot the parallax distrubtion (on a single plot/figure) for each cluster candidate"
   ]
  },
  {
   "cell_type": "code",
   "execution_count": 21,
   "id": "e3d362a0",
   "metadata": {},
   "outputs": [
    {
     "data": {
      "application/vnd.jupyter.widget-view+json": {
       "model_id": "43acd37154384849867b01b6462bb2e6",
       "version_major": 2,
       "version_minor": 0
      },
      "text/plain": [
       "Canvas(toolbar=Toolbar(toolitems=[('Home', 'Reset original view', 'home', 'home'), ('Back', 'Back to previous …"
      ]
     },
     "metadata": {},
     "output_type": "display_data"
    }
   ],
   "source": [
    "p.figure()\n",
    "p.hist(T2['parallax'][CL1_2], color='k',histtype='step',label='OV1',lw=2,density=True,bins='scott')\n",
    "p.hist(T2['parallax'][CL2_2], color='r',histtype='step',label='OV2',lw=2,density=True,bins='scott')\n",
    "p.hist(T2['parallax'][CL3_2], color='b',histtype='step',label='OV3',lw=2,density=True,bins='scott')\n",
    "\n",
    "p.legend()\n",
    "p.xlabel('parallax (mas)');p.ylabel('Normed N')\n",
    "p.tight_layout()\n"
   ]
  },
  {
   "cell_type": "markdown",
   "id": "eb37b63d",
   "metadata": {},
   "source": [
    "Q7 : How many real clusters are in Pointing 1? How do you know?\n",
    "\n",
    "A7: There is 1 cluster in pointing 1 since it clumps in ra/dec/parallax/pmra/pmdec space. The parallax distribution of the second overdensity is uniform NOT peaked as such the stars are uniformly distributed along the line of sight. Therefore cluster 2 is *NOT* a cluster. NOTE: It also clumps in RV space but there are not enough RVs \n"
   ]
  },
  {
   "cell_type": "markdown",
   "id": "ab97b1e2",
   "metadata": {},
   "source": [
    "For any real cluster, compute the median and standard deivation of the parallaxes"
   ]
  },
  {
   "cell_type": "code",
   "execution_count": 22,
   "id": "2aec68ac",
   "metadata": {},
   "outputs": [
    {
     "name": "stdout",
     "output_type": "stream",
     "text": [
      "The median (std) parallax is 0.28 (0.06) with 986 stars\n"
     ]
    }
   ],
   "source": [
    "medpar = np.median(T2['parallax'][CL2_2])\n",
    "stdpar = np.std(T2['parallax'][CL2_2])\n",
    "print('The median (std) parallax is %.2f (%.2f) with %i stars'%(medpar, stdpar, len(CL1)))"
   ]
  },
  {
   "cell_type": "markdown",
   "id": "b1840141",
   "metadata": {},
   "source": [
    "Q8: What is the median distance to any clusters you found (ignore the effects of parallax uncertainties)?\n",
    "\n",
    "A8: The cluster is Cluster 2/ NGC2506. The median parallax is 0.28 mas and thus this cluster is at a distance of ~3.57 kpc. The true cluster is NGC2506 and is at a distance of 3.44 kpc"
   ]
  },
  {
   "cell_type": "markdown",
   "id": "7a245e8d",
   "metadata": {},
   "source": [
    "## Plot the Color-Abs magnitude Diagram for Clusters in Pointing 1 and Pointing 2\n",
    "Lets now plot the combined Color absolute magntiude diagram for each cluster found in pointing 1 and 2. Lets make sure to plot them on the same diagram for comparision. \n",
    "\n",
    "Below plot the color-abs. magnitude diagram (bp-rp) vs M_G for all \"true\" clusters"
   ]
  },
  {
   "cell_type": "code",
   "execution_count": 24,
   "id": "bb17fec5",
   "metadata": {},
   "outputs": [
    {
     "data": {
      "application/vnd.jupyter.widget-view+json": {
       "model_id": "27006a43813d4a35a3dbe4c0173e3946",
       "version_major": 2,
       "version_minor": 0
      },
      "text/plain": [
       "Canvas(toolbar=Toolbar(toolitems=[('Home', 'Reset original view', 'home', 'home'), ('Back', 'Back to previous …"
      ]
     },
     "metadata": {},
     "output_type": "display_data"
    }
   ],
   "source": [
    "#lets now compute the absolute magnitude\n",
    "T['absG'] = T['phot_g_mean_mag'] - 5*(np.log10(1000/T['parallax'])-1)\n",
    "T2['absG'] = T2['phot_g_mean_mag'] - 5*(np.log10(1000/T2['parallax'])-1)\n",
    "\n",
    "#lets now plot any found clusters on the same diagram!\n",
    "p.figure()\n",
    "p.plot(T['bp_rp'][CL1], T['absG'][CL1],'k.',label='Cluster 1/NGC188')\n",
    "p.plot(T2['bp_rp'][CL2_2], T2['absG'][CL2_2],'r.',label='Cluster 2/NGC2506')\n",
    "p.xlabel('(BP-RP)/mag')\n",
    "p.ylabel(r'$M_G$/mag')\n",
    "p.legend()\n",
    "p.gca().invert_yaxis()\n",
    "p.tight_layout()"
   ]
  },
  {
   "cell_type": "code",
   "execution_count": null,
   "id": "2b3137a3",
   "metadata": {},
   "outputs": [],
   "source": []
  }
 ],
 "metadata": {
  "kernelspec": {
   "display_name": "Python 3",
   "language": "python",
   "name": "python3"
  },
  "language_info": {
   "codemirror_mode": {
    "name": "ipython",
    "version": 3
   },
   "file_extension": ".py",
   "mimetype": "text/x-python",
   "name": "python",
   "nbconvert_exporter": "python",
   "pygments_lexer": "ipython3",
   "version": "3.8.8"
  }
 },
 "nbformat": 4,
 "nbformat_minor": 5
}
