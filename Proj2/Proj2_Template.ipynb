{
 "cells": [
  {
   "cell_type": "markdown",
   "id": "70850035",
   "metadata": {},
   "source": [
    "# Project 2: Building a Color Magnitude Diagram of Open and Globular Clusters"
   ]
  },
  {
   "cell_type": "markdown",
   "id": "4014b345",
   "metadata": {},
   "source": [
    "NAME: \n",
    "\n",
    "UTEID: \n",
    "\n",
    "DATE:\n",
    "\n",
    "\n",
    "Goals: The goal is to use Gaia data to find clusters in 2 'pointings' and plot \n",
    "\n",
    "Data sets: \n",
    "1. pointing1.fits [4.7MB] = this contains the data from a single pointing in Gaia DR3; https://utexas.box.com/s/iuoge4sslbqdp4bc01znzxueugdl1ui7\n",
    "2. pointing2.fits [6.6MB] = this contains the data from a second single pointing in Gaia DR3; https://utexas.box.com/s/hd3086ctmrilxq0v8pq6rted2cgd68k8\n",
    "\n",
    "\n",
    "Lets begin by loading our libraries: \n",
    "\n"
   ]
  },
  {
   "cell_type": "code",
   "execution_count": 1,
   "id": "fa947f31",
   "metadata": {},
   "outputs": [],
   "source": [
    "#lets make a plots interactive\n",
    "%matplotlib widget \n",
    "\n",
    "#Importing libraries \n",
    "import numpy as np\n",
    "import matplotlib.pyplot as p\n",
    "import astropy\n",
    "from astropy.table import Table\n",
    "import scipy.stats\n",
    "from astropy.coordinates import SkyCoord\n",
    "import astropy.units as u\n",
    "from astropy.coordinates import Galactic\n",
    "from astropy.coordinates import ICRS\n",
    "import astropy.coordinates as apycord\n",
    "import random\n",
    "from cycler import cycler\n",
    "import astropy.table\n",
    "\n",
    "#Lets set some of the default parameters for plotting. This cell is not needed but i like to style my plots.\n",
    "p.rc('axes',prop_cycle=(cycler('color', ['k','b','g','r','c','m','y'])))\n",
    "p.rcParams['lines.linewidth']= 1.5\n",
    "p.rcParams['axes.linewidth']=2.0\n",
    "#---comment (or remove) this block if you do not have latex----\n",
    "p.rcParams['text.usetex']= True\n",
    "p.rcParams['mathtext.fontset']= 'custom'\n",
    "p.rcParams['mathtext.default']= 'rm'\n",
    "p.rcParams['axes.formatter.use_mathtext']=False\n",
    "#----------------------------------------\n",
    "p.rcParams['font.size']= 15.0\n",
    "p.rcParams['axes.labelsize']=16.0\n",
    "p.rcParams['axes.unicode_minus']=False\n",
    "p.rcParams['xtick.major.size']=6\n",
    "p.rcParams['xtick.minor.size']=3\n",
    "p.rcParams['xtick.major.width']=1.5#2.0\n",
    "p.rcParams['xtick.minor.width']=1.0\n",
    "p.rcParams['axes.linewidth']=2.5\n",
    "p.rcParams['axes.titlesize']=20#'large'\n",
    "p.rcParams['xtick.labelsize'] = 20#'x-large' # fontsize of the tick labels\n",
    "p.rcParams['ytick.labelsize']=20 #'x-large'\n",
    "p.rcParams['ytick.major.width']=2.0 #4\n",
    "p.rcParams['ytick.minor.width']=1.0 #2.0"
   ]
  },
  {
   "cell_type": "markdown",
   "id": "8daedce0",
   "metadata": {},
   "source": [
    "## Load in Pointing 1\n",
    "Lets begin with 1 pointing at a time to make things easier. \n",
    "\n",
    "\n",
    "Further, lets start by loading in the data for pointing 1 (first) and see whats there."
   ]
  },
  {
   "cell_type": "code",
   "execution_count": 2,
   "id": "b6f594fa",
   "metadata": {},
   "outputs": [],
   "source": [
    "# 2pts \n",
    "#insert code here"
   ]
  },
  {
   "cell_type": "markdown",
   "id": "fcca49b8",
   "metadata": {},
   "source": [
    "You should get something like the following columns\n",
    "'source_id' = source id of the star\n",
    "\n",
    " 'source_id' = source id of the star\n",
    " \n",
    " 'ra', = RA in deg \n",
    " \n",
    " 'dec', = declination in deg\n",
    " \n",
    " 'parallax', = parallax in mas\n",
    " \n",
    " 'pmra', = proper motion * cos(DEC) in the RA direction in mas/yr\n",
    " \n",
    " 'pmdec', proper motion in declination in in mas/yr\n",
    " \n",
    " 'phot_g_mean_mag', apparent G magnitude in mag\n",
    " \n",
    " 'phot_bp_mean_mag',apparent BP magnitude in mag\n",
    " \n",
    " 'phot_rp_mean_mag',apparent RP magnitude in mag\n",
    " \n",
    " 'pmra_error', = error in proper motion * cos(DEC) in the RA direction in mas/yr\n",
    " \n",
    " 'pmdec_error', error proper motion in declination in mas/yr\n",
    " \n",
    " 'ag_gspphot', A_G (extinction in Gaia G) in mag\n",
    " \n",
    " 'azero_gspphot', A0_G specific extinction in G at 550 nm \n",
    " \n",
    " 'bp_rp', BP-RP\n",
    "\n",
    " \n",
    " 'ebpminrp_gspphot', E(BP-RP) reddening in mag\n",
    " \n",
    " \n",
    " 'radial_velocity' = Radial Velocity in km/s\n",
    " \n",
    " 'radial_velocity_error' = error Radial Velocity in km/s\n",
    " "
   ]
  },
  {
   "cell_type": "markdown",
   "id": "ae1ff5e2",
   "metadata": {},
   "source": [
    "## Plot the Equatorial positions for Pointing 1\n"
   ]
  },
  {
   "cell_type": "markdown",
   "id": "5fc58e30",
   "metadata": {},
   "source": [
    "Plot a 2-D histogram (hexbin) of the sky positions of the stars in pointing 1"
   ]
  },
  {
   "cell_type": "code",
   "execution_count": 3,
   "id": "82aa2f0f",
   "metadata": {},
   "outputs": [],
   "source": [
    "# 4pts \n",
    "#insert code here\n",
    "#try changing the mincnt in the hexbin from 1 to 5 and see what happens \n"
   ]
  },
  {
   "cell_type": "markdown",
   "id": "a650a935",
   "metadata": {},
   "source": [
    "Q1: Are there any overdensities  in the field/pointing? If so, how many?\n",
    "\n",
    "A1:"
   ]
  },
  {
   "cell_type": "code",
   "execution_count": 4,
   "id": "af3e5016",
   "metadata": {},
   "outputs": [],
   "source": [
    "#3pts \n",
    "#insert code here\n",
    "#Remember that conditions must be in the form: np.where((condition 1)&(condition 2) & (...))[0]"
   ]
  },
  {
   "cell_type": "markdown",
   "id": "d39aed24",
   "metadata": {},
   "source": [
    "## Finding Clusters in Pointing 1"
   ]
  },
  {
   "cell_type": "markdown",
   "id": "5e8f3fc2",
   "metadata": {},
   "source": [
    "We must now turn our attention to determining if any of the overdensities (if there were any) are actual clusters or not. \n",
    "\n",
    "We will start by looking at the PMRA/PMDEC space and the the parallax distribution of any overdensities that were found in the spatial plots above. "
   ]
  },
  {
   "cell_type": "markdown",
   "id": "fc53728d",
   "metadata": {},
   "source": [
    "Lets now plot the 2d distribution (hexbin) of  PMRA and PMDEC for any spatial overdensity regions seperatly (make sure to label the plot using plt.title('name of the plot'). I would HIGHLY reccomend using a mincount (mincnt) of 1 stars per bin, log bins, a gridsize (gridsize=150).  "
   ]
  },
  {
   "cell_type": "code",
   "execution_count": 5,
   "id": "2c3b6861",
   "metadata": {},
   "outputs": [],
   "source": [
    "#8pts\n",
    "#insert code here"
   ]
  },
  {
   "cell_type": "markdown",
   "id": "f9854015",
   "metadata": {},
   "source": [
    "Q2: Are there any overdensities found in the PMRA/PMDEC plot of any of the spatially dense regions (in RA/DEC)? If so, what do these mean?\n",
    "\n",
    "A2: "
   ]
  },
  {
   "cell_type": "markdown",
   "id": "4413914e",
   "metadata": {},
   "source": [
    "For all spatial overdensitites identify the location of the proper motion overdensity (if any) using the where function. Make sure to be careful with indexing. "
   ]
  },
  {
   "cell_type": "code",
   "execution_count": 6,
   "id": "06390a94",
   "metadata": {},
   "outputs": [],
   "source": [
    "#4 pts \n",
    "#insert code here"
   ]
  },
  {
   "cell_type": "markdown",
   "id": "7663dd4e",
   "metadata": {},
   "source": [
    "Now, plot the parallax distrubtion (on a single plot/figure) for each cluster candidate"
   ]
  },
  {
   "cell_type": "code",
   "execution_count": 7,
   "id": "a9b8ac1b",
   "metadata": {},
   "outputs": [],
   "source": [
    "#4 pts\n",
    "#insert code here."
   ]
  },
  {
   "cell_type": "markdown",
   "id": "f0aa458b",
   "metadata": {},
   "source": [
    "Q3 : How many real clusters are in Pointing 1? How do you know?\n",
    "\n",
    "A3: "
   ]
  },
  {
   "cell_type": "markdown",
   "id": "0bb011c2",
   "metadata": {},
   "source": [
    "For any real cluster, compute the median and standard deivation of the parallaxes"
   ]
  },
  {
   "cell_type": "code",
   "execution_count": 8,
   "id": "0cca435c",
   "metadata": {},
   "outputs": [],
   "source": [
    "#2 pts\n",
    "#insert code here"
   ]
  },
  {
   "cell_type": "markdown",
   "id": "9b3b0c48",
   "metadata": {},
   "source": [
    "Q4: What is the median distance to any clusters you found (ignore the effects of parallax uncertainties)?\n",
    "\n",
    "A4: "
   ]
  },
  {
   "cell_type": "markdown",
   "id": "5ef7d1c0",
   "metadata": {},
   "source": [
    "## Plot the Color-Abs magnitude Diagram for Clusters in Pointing 1\n",
    "Lets now plot the Color (bp-rp) - absolute magntiude (M_G) diagram for each cluster found in pointing 1. Lets make sure to plot them on the same diagram for comparision.  "
   ]
  },
  {
   "cell_type": "code",
   "execution_count": 9,
   "id": "21b98d29",
   "metadata": {},
   "outputs": [],
   "source": [
    "#8 pts\n",
    "#insert code here"
   ]
  },
  {
   "cell_type": "markdown",
   "id": "1e945216",
   "metadata": {},
   "source": [
    "## Load in Pointing 2\n",
    "Lets now move to the second pointing \n",
    "\n",
    "Its easiest to begin by loading in the data and seeing whats there."
   ]
  },
  {
   "cell_type": "code",
   "execution_count": 10,
   "id": "8963dfa1",
   "metadata": {},
   "outputs": [],
   "source": [
    "# 2pts \n",
    "#insert code here"
   ]
  },
  {
   "cell_type": "markdown",
   "id": "c4b7eecf",
   "metadata": {},
   "source": [
    "You should get something like the following columns\n",
    "'source_id' = source id of the star\n",
    "\n",
    " 'source_id' = source id of the star\n",
    " \n",
    " 'ra', = RA in deg \n",
    " \n",
    " 'dec', = declination in deg\n",
    " \n",
    " 'parallax', = parallax in mas\n",
    " \n",
    " 'pmra', = proper motion * cos(DEC) in the RA direction in mas/yr\n",
    " \n",
    " 'pmdec', proper motion in declination in in mas/yr\n",
    " \n",
    " 'phot_g_mean_mag', apparent G magnitude in mag\n",
    " \n",
    " 'phot_bp_mean_mag',apparent BP magnitude in mag\n",
    " \n",
    " 'phot_rp_mean_mag',apparent RP magnitude in mag\n",
    "  \n",
    " 'ag_gspphot', A_G (extinction in Gaia G) in mag\n",
    " \n",
    " 'azero_gspphot', A0_G specific extinction in G at 550 nm \n",
    " \n",
    " 'bp_rp', BP-RP\n",
    " \n",
    " 'ebpminrp_gspphot', E(BP-RP) reddening in mag\n",
    " \n",
    " 'radial_velocity' = Radial Velocity in km/s\n",
    " \n",
    " 'radial_velocity_error' = error Radial Velocity in km/s\n",
    " "
   ]
  },
  {
   "cell_type": "markdown",
   "id": "b730169d",
   "metadata": {},
   "source": [
    "## Plot the Equatorial positions for Pointing 2\n"
   ]
  },
  {
   "cell_type": "markdown",
   "id": "5f360cbc",
   "metadata": {},
   "source": [
    "Plot a 2-D histogram (hexbin) of the sky positions of the stars in pointing 2"
   ]
  },
  {
   "cell_type": "code",
   "execution_count": 11,
   "id": "4d20309c",
   "metadata": {},
   "outputs": [],
   "source": [
    "# 4pts \n",
    "#insert code here\n",
    "#try changing the mincnt in the hexbin from 1 to 5 and see what happens \n"
   ]
  },
  {
   "cell_type": "markdown",
   "id": "833f3628",
   "metadata": {},
   "source": [
    "Q5: Are there any overdensitites in the pointing 2? If so, how many?\n",
    "\n",
    "A5: "
   ]
  },
  {
   "cell_type": "code",
   "execution_count": 12,
   "id": "c50bbfde",
   "metadata": {},
   "outputs": [],
   "source": [
    "#4pts \n",
    "#insert code here\n",
    "#Remember that conditions must be in the form: np.where((condition 1)&(condition 2) & (...))[0]"
   ]
  },
  {
   "cell_type": "markdown",
   "id": "ce8592b3",
   "metadata": {},
   "source": [
    "## Finding Clusters in Pointing 2"
   ]
  },
  {
   "cell_type": "markdown",
   "id": "548a5a82",
   "metadata": {},
   "source": [
    "We must now turn our attention to determining if any of the overdensities (if there were any) are actual clusters or not. \n",
    "\n",
    "If there are any overdensities plot the parallax distrbtion of each overdensity on a single plot. The bins should use \"Scott's\" rule. "
   ]
  },
  {
   "cell_type": "markdown",
   "id": "ae2e987c",
   "metadata": {},
   "source": [
    "Lets now plot the 2d distribution (hexbin) of  PMRA and PMDEC for any spatial overdensity regions seperatly (make sure to label the plot using plt.title('name of the plot'). I would HIGHLY reccomend using a mincount (mincnt) of 1 stars per bin, log bins, a gridsize (gridsize=50).  "
   ]
  },
  {
   "cell_type": "code",
   "execution_count": 13,
   "id": "37118326",
   "metadata": {},
   "outputs": [],
   "source": [
    "#12pts\n",
    "#insert code here"
   ]
  },
  {
   "cell_type": "markdown",
   "id": "a721b840",
   "metadata": {},
   "source": [
    "Q6: Are there any *significant* (key word significant meaning well above the background) overdensities found in the PMRA/PMDEC plot(s) of any of the spatially dense regions (in RA/DEC)? If so, what do these mean?\n",
    "\n",
    "A6:"
   ]
  },
  {
   "cell_type": "markdown",
   "id": "2f0d3341",
   "metadata": {},
   "source": [
    "For all (signficant) spatial overdensitites identify the location of the proper motion overdensity (if any) using the where function. Be very careful about your indexing, and the use of where with negative numbers."
   ]
  },
  {
   "cell_type": "code",
   "execution_count": 14,
   "id": "ef12e37b",
   "metadata": {},
   "outputs": [],
   "source": [
    "#3 pts\n",
    "#insert code here"
   ]
  },
  {
   "cell_type": "markdown",
   "id": "b6bc2d5d",
   "metadata": {},
   "source": [
    "Plot the parallax distrubtion (on a single plot/figure) for each cluster candidate"
   ]
  },
  {
   "cell_type": "code",
   "execution_count": 15,
   "id": "caafc59b",
   "metadata": {},
   "outputs": [],
   "source": [
    "#4 pts\n",
    "#insert code here."
   ]
  },
  {
   "cell_type": "markdown",
   "id": "4d400429",
   "metadata": {},
   "source": [
    "Q7 : How many real clusters are in Pointing 2? How do you know?\n",
    "\n",
    "A7:"
   ]
  },
  {
   "cell_type": "markdown",
   "id": "1460e133",
   "metadata": {},
   "source": [
    "For any real cluster, compute the median and standard deivation of the parallaxes"
   ]
  },
  {
   "cell_type": "code",
   "execution_count": 16,
   "id": "4d424e3e",
   "metadata": {},
   "outputs": [],
   "source": [
    "#2pts\n",
    "#insert code here."
   ]
  },
  {
   "cell_type": "markdown",
   "id": "cfe1942c",
   "metadata": {},
   "source": [
    "Q8: What is the median distance to any clusters you found in pointing 2 (ignore the effects of parallax uncertainties)?\n",
    "\n",
    "A8: "
   ]
  },
  {
   "cell_type": "markdown",
   "id": "87f10be9",
   "metadata": {},
   "source": [
    "## Plot the Color-Abs magnitude Diagram for Clusters in Pointing 1 and Pointing 2\n",
    "Lets now plot the combined Color absolute magntiude diagram for each cluster found in pointing 1 and 2. Lets make sure to plot them on the same diagram for comparision. \n",
    "\n",
    "Below plot the color-abs. magnitude diagram (bp-rp) vs M_G for all \"true\" clusters"
   ]
  },
  {
   "cell_type": "code",
   "execution_count": 17,
   "id": "7aff206f",
   "metadata": {},
   "outputs": [],
   "source": [
    "#8pts\n",
    "#insert code here."
   ]
  },
  {
   "cell_type": "code",
   "execution_count": null,
   "id": "cb41899d",
   "metadata": {},
   "outputs": [],
   "source": []
  }
 ],
 "metadata": {
  "kernelspec": {
   "display_name": "Python 3",
   "language": "python",
   "name": "python3"
  },
  "language_info": {
   "codemirror_mode": {
    "name": "ipython",
    "version": 3
   },
   "file_extension": ".py",
   "mimetype": "text/x-python",
   "name": "python",
   "nbconvert_exporter": "python",
   "pygments_lexer": "ipython3",
   "version": "3.8.8"
  }
 },
 "nbformat": 4,
 "nbformat_minor": 5
}
